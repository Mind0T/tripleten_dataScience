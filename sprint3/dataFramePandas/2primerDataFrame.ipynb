{
 "cells": [
  {
   "cell_type": "code",
   "execution_count": 6,
   "id": "937d6b23",
   "metadata": {},
   "outputs": [
    {
     "data": {
      "text/plain": [
       "\"\\nImporta pandas para poder acceder a la librería con pd. Crea una lista anidada, music, con cuatro elementos.\\nCada sublista debe almacenar dos valores de tipo string: artista y nombre de la canción.\\n\\n'Bob Dylan' — 'Like A Rolling Stone'\\n'John Lennon' — 'Imagine'\\n'The Beatles' — 'Hey Jude'\\n'Nirvana' — 'Smells Like Teen Spirit'\\n\\n\""
      ]
     },
     "execution_count": 6,
     "metadata": {},
     "output_type": "execute_result"
    }
   ],
   "source": [
    "'''\n",
    "Importa pandas para poder acceder a la librería con pd. Crea una lista anidada, music, con cuatro elementos.\n",
    "Cada sublista debe almacenar dos valores de tipo string: artista y nombre de la canción.\n",
    "\n",
    "'Bob Dylan' — 'Like A Rolling Stone'\n",
    "'John Lennon' — 'Imagine'\n",
    "'The Beatles' — 'Hey Jude'\n",
    "'Nirvana' — 'Smells Like Teen Spirit'\n",
    "\n",
    "'''"
   ]
  },
  {
   "cell_type": "code",
   "execution_count": 7,
   "id": "2b5d8205",
   "metadata": {},
   "outputs": [],
   "source": [
    "import pandas as pd\n",
    "music=[\n",
    "    ['Bob Dylan','Like a Rolling Stone'],\n",
    "    ['John Lennon','Imagine'],\n",
    "    ['The Beatles','Hey Judge'],\n",
    "    ['Nirvana','Smells Like Teen Spirit']\n",
    "]\n",
    "titles=['Cantante','Cancion']\n",
    "\n",
    "\n",
    "music2={\n",
    "    \"SINGER\":['Bob Dylan','John Lennon','The Beatles','Nirvana'],\n",
    "    \"SING\":['Like a Rolling Stone','Imagine','Hey Judge','Smells Like Teen Spirit']\n",
    "}"
   ]
  },
  {
   "cell_type": "code",
   "execution_count": 3,
   "id": "8a6d0a8b",
   "metadata": {},
   "outputs": [],
   "source": [
    "df=pd.DataFrame(data=music,columns=titles)\n",
    "df2=pd.DataFrame(music2)"
   ]
  },
  {
   "cell_type": "code",
   "execution_count": 8,
   "id": "c1b11011",
   "metadata": {},
   "outputs": [
    {
     "data": {
      "text/html": [
       "<div>\n",
       "<style scoped>\n",
       "    .dataframe tbody tr th:only-of-type {\n",
       "        vertical-align: middle;\n",
       "    }\n",
       "\n",
       "    .dataframe tbody tr th {\n",
       "        vertical-align: top;\n",
       "    }\n",
       "\n",
       "    .dataframe thead th {\n",
       "        text-align: right;\n",
       "    }\n",
       "</style>\n",
       "<table border=\"1\" class=\"dataframe\">\n",
       "  <thead>\n",
       "    <tr style=\"text-align: right;\">\n",
       "      <th></th>\n",
       "      <th>Cantante</th>\n",
       "      <th>Cancion</th>\n",
       "    </tr>\n",
       "  </thead>\n",
       "  <tbody>\n",
       "    <tr>\n",
       "      <th>0</th>\n",
       "      <td>Bob Dylan</td>\n",
       "      <td>Like a Rolling Stone</td>\n",
       "    </tr>\n",
       "    <tr>\n",
       "      <th>1</th>\n",
       "      <td>John Lennon</td>\n",
       "      <td>Imagine</td>\n",
       "    </tr>\n",
       "    <tr>\n",
       "      <th>2</th>\n",
       "      <td>The Beatles</td>\n",
       "      <td>Hey Judge</td>\n",
       "    </tr>\n",
       "    <tr>\n",
       "      <th>3</th>\n",
       "      <td>Nirvana</td>\n",
       "      <td>Smells Like Teen Spirit</td>\n",
       "    </tr>\n",
       "  </tbody>\n",
       "</table>\n",
       "</div>"
      ],
      "text/plain": [
       "      Cantante                  Cancion\n",
       "0    Bob Dylan     Like a Rolling Stone\n",
       "1  John Lennon                  Imagine\n",
       "2  The Beatles                Hey Judge\n",
       "3      Nirvana  Smells Like Teen Spirit"
      ]
     },
     "execution_count": 8,
     "metadata": {},
     "output_type": "execute_result"
    }
   ],
   "source": [
    "df.head()"
   ]
  },
  {
   "cell_type": "code",
   "execution_count": 9,
   "id": "e0188eb2",
   "metadata": {},
   "outputs": [
    {
     "data": {
      "text/html": [
       "<div>\n",
       "<style scoped>\n",
       "    .dataframe tbody tr th:only-of-type {\n",
       "        vertical-align: middle;\n",
       "    }\n",
       "\n",
       "    .dataframe tbody tr th {\n",
       "        vertical-align: top;\n",
       "    }\n",
       "\n",
       "    .dataframe thead th {\n",
       "        text-align: right;\n",
       "    }\n",
       "</style>\n",
       "<table border=\"1\" class=\"dataframe\">\n",
       "  <thead>\n",
       "    <tr style=\"text-align: right;\">\n",
       "      <th></th>\n",
       "      <th>SINGER</th>\n",
       "      <th>SING</th>\n",
       "    </tr>\n",
       "  </thead>\n",
       "  <tbody>\n",
       "    <tr>\n",
       "      <th>0</th>\n",
       "      <td>Bob Dylan</td>\n",
       "      <td>Like a Rolling Stone</td>\n",
       "    </tr>\n",
       "    <tr>\n",
       "      <th>1</th>\n",
       "      <td>John Lennon</td>\n",
       "      <td>Imagine</td>\n",
       "    </tr>\n",
       "    <tr>\n",
       "      <th>2</th>\n",
       "      <td>The Beatles</td>\n",
       "      <td>Hey Judge</td>\n",
       "    </tr>\n",
       "    <tr>\n",
       "      <th>3</th>\n",
       "      <td>Nirvana</td>\n",
       "      <td>Smells Like Teen Spirit</td>\n",
       "    </tr>\n",
       "  </tbody>\n",
       "</table>\n",
       "</div>"
      ],
      "text/plain": [
       "        SINGER                     SING\n",
       "0    Bob Dylan     Like a Rolling Stone\n",
       "1  John Lennon                  Imagine\n",
       "2  The Beatles                Hey Judge\n",
       "3      Nirvana  Smells Like Teen Spirit"
      ]
     },
     "execution_count": 9,
     "metadata": {},
     "output_type": "execute_result"
    }
   ],
   "source": [
    "df2.head()"
   ]
  }
 ],
 "metadata": {
  "kernelspec": {
   "display_name": "Python 3",
   "language": "python",
   "name": "python3"
  },
  "language_info": {
   "codemirror_mode": {
    "name": "ipython",
    "version": 3
   },
   "file_extension": ".py",
   "mimetype": "text/x-python",
   "name": "python",
   "nbconvert_exporter": "python",
   "pygments_lexer": "ipython3",
   "version": "3.10.6"
  }
 },
 "nbformat": 4,
 "nbformat_minor": 5
}
