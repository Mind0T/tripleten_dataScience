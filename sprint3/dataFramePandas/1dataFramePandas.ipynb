{
 "cells": [
  {
   "cell_type": "code",
   "execution_count": null,
   "id": "4ae40d28",
   "metadata": {},
   "outputs": [],
   "source": [
    "import pandas as pd #? Usar la palabra import"
   ]
  },
  {
   "cell_type": "code",
   "execution_count": 26,
   "id": "3eae5caf",
   "metadata": {},
   "outputs": [],
   "source": [
    "data = {'product_id': [101, 102, 103],\n",
    "        'product_name': ['Laptop', 'Smartphone', 'Tablet'],\n",
    "        'price': [1500,800,300],\n",
    "        'category': ['Electronics', 'Electronics', 'Electronics']}"
   ]
  },
  {
   "cell_type": "code",
   "execution_count": null,
   "id": "dea236ce",
   "metadata": {},
   "outputs": [],
   "source": [
    "df=pd.DataFrame(data) \n",
    "#?Clase plantilla para crear un objeto\n",
    "#DataFrame toma dos argumentos data (lista) y columns (nombres de las columnas),"
   ]
  },
  {
   "cell_type": "code",
   "execution_count": 28,
   "id": "94d2e0bf",
   "metadata": {},
   "outputs": [],
   "source": [
    "data_dtype=df.dtypes\n",
    "data_comlumns=df.columns\n",
    "data_shape=df.shape"
   ]
  },
  {
   "cell_type": "code",
   "execution_count": 29,
   "id": "f019c0ed",
   "metadata": {},
   "outputs": [
    {
     "name": "stdout",
     "output_type": "stream",
     "text": [
      "product_id       int64\n",
      "product_name    object\n",
      "price            int64\n",
      "category        object\n",
      "dtype: object\n"
     ]
    }
   ],
   "source": [
    "print(f\"{data_dtype}\")"
   ]
  },
  {
   "cell_type": "code",
   "execution_count": 30,
   "id": "469505ee",
   "metadata": {},
   "outputs": [
    {
     "name": "stdout",
     "output_type": "stream",
     "text": [
      "Index(['product_id', 'product_name', 'price', 'category'], dtype='object')\n"
     ]
    }
   ],
   "source": [
    "print(f\"{data_comlumns}\")"
   ]
  },
  {
   "cell_type": "code",
   "execution_count": 31,
   "id": "93dbd614",
   "metadata": {},
   "outputs": [
    {
     "data": {
      "text/html": [
       "<div>\n",
       "<style scoped>\n",
       "    .dataframe tbody tr th:only-of-type {\n",
       "        vertical-align: middle;\n",
       "    }\n",
       "\n",
       "    .dataframe tbody tr th {\n",
       "        vertical-align: top;\n",
       "    }\n",
       "\n",
       "    .dataframe thead th {\n",
       "        text-align: right;\n",
       "    }\n",
       "</style>\n",
       "<table border=\"1\" class=\"dataframe\">\n",
       "  <thead>\n",
       "    <tr style=\"text-align: right;\">\n",
       "      <th></th>\n",
       "      <th>product_id</th>\n",
       "      <th>product_name</th>\n",
       "      <th>price</th>\n",
       "      <th>category</th>\n",
       "    </tr>\n",
       "  </thead>\n",
       "  <tbody>\n",
       "    <tr>\n",
       "      <th>0</th>\n",
       "      <td>101</td>\n",
       "      <td>Laptop</td>\n",
       "      <td>1500</td>\n",
       "      <td>Electronics</td>\n",
       "    </tr>\n",
       "    <tr>\n",
       "      <th>1</th>\n",
       "      <td>102</td>\n",
       "      <td>Smartphone</td>\n",
       "      <td>800</td>\n",
       "      <td>Electronics</td>\n",
       "    </tr>\n",
       "    <tr>\n",
       "      <th>2</th>\n",
       "      <td>103</td>\n",
       "      <td>Tablet</td>\n",
       "      <td>300</td>\n",
       "      <td>Electronics</td>\n",
       "    </tr>\n",
       "  </tbody>\n",
       "</table>\n",
       "</div>"
      ],
      "text/plain": [
       "   product_id product_name  price     category\n",
       "0         101       Laptop   1500  Electronics\n",
       "1         102   Smartphone    800  Electronics\n",
       "2         103       Tablet    300  Electronics"
      ]
     },
     "execution_count": 31,
     "metadata": {},
     "output_type": "execute_result"
    }
   ],
   "source": [
    "df.head()"
   ]
  },
  {
   "cell_type": "code",
   "execution_count": 32,
   "id": "d9b48aae",
   "metadata": {},
   "outputs": [
    {
     "name": "stdout",
     "output_type": "stream",
     "text": [
      "(3, 4)\n"
     ]
    }
   ],
   "source": [
    "print(f\"{data_shape}\")"
   ]
  },
  {
   "cell_type": "code",
   "execution_count": 33,
   "id": "9a3c7b91",
   "metadata": {},
   "outputs": [
    {
     "name": "stdout",
     "output_type": "stream",
     "text": [
      "<class 'pandas.core.frame.DataFrame'>\n",
      "RangeIndex: 3 entries, 0 to 2\n",
      "Data columns (total 4 columns):\n",
      " #   Column        Non-Null Count  Dtype \n",
      "---  ------        --------------  ----- \n",
      " 0   product_id    3 non-null      int64 \n",
      " 1   product_name  3 non-null      object\n",
      " 2   price         3 non-null      int64 \n",
      " 3   category      3 non-null      object\n",
      "dtypes: int64(2), object(2)\n",
      "memory usage: 224.0+ bytes\n"
     ]
    }
   ],
   "source": [
    "df.info()"
   ]
  }
 ],
 "metadata": {
  "kernelspec": {
   "display_name": "Python 3",
   "language": "python",
   "name": "python3"
  },
  "language_info": {
   "codemirror_mode": {
    "name": "ipython",
    "version": 3
   },
   "file_extension": ".py",
   "mimetype": "text/x-python",
   "name": "python",
   "nbconvert_exporter": "python",
   "pygments_lexer": "ipython3",
   "version": "3.10.6"
  }
 },
 "nbformat": 4,
 "nbformat_minor": 5
}
