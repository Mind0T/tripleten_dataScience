{
 "cells": [
  {
   "cell_type": "code",
   "execution_count": 38,
   "id": "6e9cbeb1",
   "metadata": {},
   "outputs": [],
   "source": [
    "import pandas as pd"
   ]
  },
  {
   "cell_type": "code",
   "execution_count": 50,
   "id": "66682ed5",
   "metadata": {},
   "outputs": [],
   "source": [
    "music=[\n",
    "    ['Caloncho','Wacha Checa'],\n",
    "    ['Amy Wine House','Back to Black'],\n",
    "    ['Lana Del Rey','Cinamon Girl'],\n",
    "    ['Billie Elish','Chihiro']\n",
    "]\n",
    "music2={\n",
    "    \"Singer\":['Caloncho','Amy Wine House','Lana Del Rey','Billie Elish'],\n",
    "    \"Sing\":['Wacha Checa','Back to Black','Cinamon Girl','Chihiro']\n",
    "}\n",
    "\n",
    "title=['El Cantante','La Cancion']"
   ]
  },
  {
   "cell_type": "code",
   "execution_count": 51,
   "id": "d8c99cd5",
   "metadata": {},
   "outputs": [
    {
     "data": {
      "text/html": [
       "<div>\n",
       "<style scoped>\n",
       "    .dataframe tbody tr th:only-of-type {\n",
       "        vertical-align: middle;\n",
       "    }\n",
       "\n",
       "    .dataframe tbody tr th {\n",
       "        vertical-align: top;\n",
       "    }\n",
       "\n",
       "    .dataframe thead th {\n",
       "        text-align: right;\n",
       "    }\n",
       "</style>\n",
       "<table border=\"1\" class=\"dataframe\">\n",
       "  <thead>\n",
       "    <tr style=\"text-align: right;\">\n",
       "      <th></th>\n",
       "      <th>El Cantante</th>\n",
       "      <th>La Cancion</th>\n",
       "    </tr>\n",
       "  </thead>\n",
       "  <tbody>\n",
       "    <tr>\n",
       "      <th>0</th>\n",
       "      <td>Caloncho</td>\n",
       "      <td>Wacha Checa</td>\n",
       "    </tr>\n",
       "    <tr>\n",
       "      <th>1</th>\n",
       "      <td>Amy Wine House</td>\n",
       "      <td>Back to Black</td>\n",
       "    </tr>\n",
       "    <tr>\n",
       "      <th>2</th>\n",
       "      <td>Lana Del Rey</td>\n",
       "      <td>Cinamon Girl</td>\n",
       "    </tr>\n",
       "    <tr>\n",
       "      <th>3</th>\n",
       "      <td>Billie Elish</td>\n",
       "      <td>Chihiro</td>\n",
       "    </tr>\n",
       "  </tbody>\n",
       "</table>\n",
       "</div>"
      ],
      "text/plain": [
       "      El Cantante     La Cancion\n",
       "0        Caloncho    Wacha Checa\n",
       "1  Amy Wine House  Back to Black\n",
       "2    Lana Del Rey   Cinamon Girl\n",
       "3    Billie Elish        Chihiro"
      ]
     },
     "execution_count": 51,
     "metadata": {},
     "output_type": "execute_result"
    }
   ],
   "source": [
    "df=pd.DataFrame(data=music,columns=title)\n",
    "df.head()"
   ]
  },
  {
   "cell_type": "code",
   "execution_count": 52,
   "id": "27987313",
   "metadata": {},
   "outputs": [
    {
     "data": {
      "text/html": [
       "<div>\n",
       "<style scoped>\n",
       "    .dataframe tbody tr th:only-of-type {\n",
       "        vertical-align: middle;\n",
       "    }\n",
       "\n",
       "    .dataframe tbody tr th {\n",
       "        vertical-align: top;\n",
       "    }\n",
       "\n",
       "    .dataframe thead th {\n",
       "        text-align: right;\n",
       "    }\n",
       "</style>\n",
       "<table border=\"1\" class=\"dataframe\">\n",
       "  <thead>\n",
       "    <tr style=\"text-align: right;\">\n",
       "      <th></th>\n",
       "      <th>Singer</th>\n",
       "      <th>Sing</th>\n",
       "    </tr>\n",
       "  </thead>\n",
       "  <tbody>\n",
       "    <tr>\n",
       "      <th>0</th>\n",
       "      <td>Caloncho</td>\n",
       "      <td>Wacha Checa</td>\n",
       "    </tr>\n",
       "    <tr>\n",
       "      <th>1</th>\n",
       "      <td>Amy Wine House</td>\n",
       "      <td>Back to Black</td>\n",
       "    </tr>\n",
       "    <tr>\n",
       "      <th>2</th>\n",
       "      <td>Lana Del Rey</td>\n",
       "      <td>Cinamon Girl</td>\n",
       "    </tr>\n",
       "    <tr>\n",
       "      <th>3</th>\n",
       "      <td>Billie Elish</td>\n",
       "      <td>Chihiro</td>\n",
       "    </tr>\n",
       "  </tbody>\n",
       "</table>\n",
       "</div>"
      ],
      "text/plain": [
       "           Singer           Sing\n",
       "0        Caloncho    Wacha Checa\n",
       "1  Amy Wine House  Back to Black\n",
       "2    Lana Del Rey   Cinamon Girl\n",
       "3    Billie Elish        Chihiro"
      ]
     },
     "execution_count": 52,
     "metadata": {},
     "output_type": "execute_result"
    }
   ],
   "source": [
    "df2=pd.DataFrame(music2)\n",
    "df2.head()"
   ]
  }
 ],
 "metadata": {
  "kernelspec": {
   "display_name": "Python 3",
   "language": "python",
   "name": "python3"
  },
  "language_info": {
   "codemirror_mode": {
    "name": "ipython",
    "version": 3
   },
   "file_extension": ".py",
   "mimetype": "text/x-python",
   "name": "python",
   "nbconvert_exporter": "python",
   "pygments_lexer": "ipython3",
   "version": "3.10.6"
  }
 },
 "nbformat": 4,
 "nbformat_minor": 5
}
