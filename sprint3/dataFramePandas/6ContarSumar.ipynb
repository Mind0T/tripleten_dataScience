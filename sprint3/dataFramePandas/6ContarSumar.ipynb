{
 "cells": [
  {
   "cell_type": "markdown",
   "id": "d5ab7c75",
   "metadata": {},
   "source": [
    "<div style=\"display:flex; justify-content:space-around;\">\n",
    "    <img src=\"./imagenes/5.jpg\" width=350/>\n",
    "    <img src=\"./imagenes/6.jpg\" width=350/>\n",
    "    <img src=\"./imagenes/7.jpg\" width=350 />\n",
    "</div>\n"
   ]
  },
  {
   "cell_type": "markdown",
   "id": "e39c0209",
   "metadata": {},
   "source": [
    "### ***Es muy similar a lo que ando viendo con pandas y sus arrays ***"
   ]
  },
  {
   "cell_type": "markdown",
   "id": "dbc39a1e",
   "metadata": {},
   "source": [
    "np.mean()  np.mean()  np.median()"
   ]
  },
  {
   "cell_type": "markdown",
   "id": "0699db5b",
   "metadata": {},
   "source": [
    "# **Contar y sumar**"
   ]
  },
  {
   "cell_type": "code",
   "execution_count": 22,
   "id": "12d86155",
   "metadata": {},
   "outputs": [],
   "source": [
    "import pandas as pd\n",
    "df=pd.read_excel(\"C:\\ESCOM\\Code\\DatasScience_TripleTen\\sprint3\\datos_profesionales.xlsx\")"
   ]
  },
  {
   "cell_type": "code",
   "execution_count": 23,
   "id": "f7d426b2",
   "metadata": {},
   "outputs": [
    {
     "data": {
      "text/html": [
       "<div>\n",
       "<style scoped>\n",
       "    .dataframe tbody tr th:only-of-type {\n",
       "        vertical-align: middle;\n",
       "    }\n",
       "\n",
       "    .dataframe tbody tr th {\n",
       "        vertical-align: top;\n",
       "    }\n",
       "\n",
       "    .dataframe thead th {\n",
       "        text-align: right;\n",
       "    }\n",
       "</style>\n",
       "<table border=\"1\" class=\"dataframe\">\n",
       "  <thead>\n",
       "    <tr style=\"text-align: right;\">\n",
       "      <th></th>\n",
       "      <th>Nombre</th>\n",
       "      <th>Edad</th>\n",
       "      <th>Ingresos (MXN)</th>\n",
       "      <th>Carrera</th>\n",
       "      <th>Trabajo</th>\n",
       "    </tr>\n",
       "  </thead>\n",
       "  <tbody>\n",
       "    <tr>\n",
       "      <th>0</th>\n",
       "      <td>Javier Sánchez</td>\n",
       "      <td>25</td>\n",
       "      <td>44970</td>\n",
       "      <td>Gastronomía</td>\n",
       "      <td>Contador</td>\n",
       "    </tr>\n",
       "    <tr>\n",
       "      <th>1</th>\n",
       "      <td>Luis García</td>\n",
       "      <td>52</td>\n",
       "      <td>64178</td>\n",
       "      <td>Comunicación</td>\n",
       "      <td>Desarrollador de Software</td>\n",
       "    </tr>\n",
       "    <tr>\n",
       "      <th>2</th>\n",
       "      <td>Ana Gómez</td>\n",
       "      <td>23</td>\n",
       "      <td>113059</td>\n",
       "      <td>Relaciones Internacionales</td>\n",
       "      <td>Diplomático</td>\n",
       "    </tr>\n",
       "    <tr>\n",
       "      <th>3</th>\n",
       "      <td>Ana Ramírez</td>\n",
       "      <td>29</td>\n",
       "      <td>96262</td>\n",
       "      <td>Diseño Gráfico</td>\n",
       "      <td>Diplomático</td>\n",
       "    </tr>\n",
       "    <tr>\n",
       "      <th>4</th>\n",
       "      <td>José Martínez</td>\n",
       "      <td>43</td>\n",
       "      <td>46338</td>\n",
       "      <td>Gastronomía</td>\n",
       "      <td>Abogado Corporativo</td>\n",
       "    </tr>\n",
       "  </tbody>\n",
       "</table>\n",
       "</div>"
      ],
      "text/plain": [
       "           Nombre  Edad  Ingresos (MXN)                     Carrera  \\\n",
       "0  Javier Sánchez    25           44970                 Gastronomía   \n",
       "1     Luis García    52           64178                Comunicación   \n",
       "2       Ana Gómez    23          113059  Relaciones Internacionales   \n",
       "3     Ana Ramírez    29           96262              Diseño Gráfico   \n",
       "4   José Martínez    43           46338                 Gastronomía   \n",
       "\n",
       "                     Trabajo  \n",
       "0                   Contador  \n",
       "1  Desarrollador de Software  \n",
       "2                Diplomático  \n",
       "3                Diplomático  \n",
       "4        Abogado Corporativo  "
      ]
     },
     "execution_count": 23,
     "metadata": {},
     "output_type": "execute_result"
    }
   ],
   "source": [
    "df.head()"
   ]
  },
  {
   "cell_type": "code",
   "execution_count": 34,
   "id": "a813413d",
   "metadata": {},
   "outputs": [
    {
     "name": "stdout",
     "output_type": "stream",
     "text": [
      "El promedio de las edades es de 42.748\n"
     ]
    }
   ],
   "source": [
    "df_edades_promedio=df[\"Edad\"].mean()\n",
    "print(f\"El promedio de las edades es de {df_edades_promedio}\")"
   ]
  },
  {
   "cell_type": "code",
   "execution_count": 37,
   "id": "277464bd",
   "metadata": {},
   "outputs": [
    {
     "name": "stdout",
     "output_type": "stream",
     "text": [
      "La suma de las edades es: 21374\n"
     ]
    }
   ],
   "source": [
    "df_edad_sum=df[\"Edad\"].sum()\n",
    "print(f\"La suma de las edades es: {df_edad_sum}\")"
   ]
  },
  {
   "cell_type": "code",
   "execution_count": 47,
   "id": "6080bd6f",
   "metadata": {},
   "outputs": [
    {
     "name": "stdout",
     "output_type": "stream",
     "text": [
      "El minimo de los ingresos es de 10051\n"
     ]
    }
   ],
   "source": [
    "df_ingresos_min=df[\"Ingresos (MXN)\"].min()\n",
    "print(f\"El minimo de los ingresos es de {df_ingresos_min}\")\n",
    "#Funciona con median min max std"
   ]
  },
  {
   "cell_type": "code",
   "execution_count": 54,
   "id": "336118d7",
   "metadata": {},
   "outputs": [
    {
     "name": "stdout",
     "output_type": "stream",
     "text": [
      "El promedio de los salarios de los que trabajan como Desarrollador de software es de 81135.21428571429\n"
     ]
    }
   ],
   "source": [
    "df_arquitectos_salario_promedio=df.loc[df[\"Trabajo\"]==\"Desarrollador de Software\"][\"Ingresos (MXN)\"].mean()\n",
    "print(f\"El promedio de los salarios de los que trabajan como Desarrollador de software es de {df_arquitectos_salario_promedio}\")"
   ]
  }
 ],
 "metadata": {
  "kernelspec": {
   "display_name": "Python 3",
   "language": "python",
   "name": "python3"
  },
  "language_info": {
   "codemirror_mode": {
    "name": "ipython",
    "version": 3
   },
   "file_extension": ".py",
   "mimetype": "text/x-python",
   "name": "python",
   "nbconvert_exporter": "python",
   "pygments_lexer": "ipython3",
   "version": "3.10.6"
  }
 },
 "nbformat": 4,
 "nbformat_minor": 5
}
