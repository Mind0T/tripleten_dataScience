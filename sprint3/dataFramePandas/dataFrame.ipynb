{
 "cells": [
  {
   "cell_type": "code",
   "execution_count": null,
   "id": "7033fc12",
   "metadata": {},
   "outputs": [],
   "source": [
    "#Data frame de Pandas es muy buena opcion para trabajar con conjunto de datos grandes\n",
    "#Bien documentada\n",
    "#Ojeto basico es el Frame work es un conjunto de datos bidimensional Fila por Indices Columnas por el Nombre\n",
    "#Fila entidad columnas atributos de esa identidad\n",
    "#DataFrame=table=conjuntodedatos\n",
    "#Siempre es mejor consultar la documentacion de cada DataFrame\n",
    "#Atributos del DataFrame:\n",
    "'''\n",
    "#!ES SIMILAR A LLAMAR UN METODO PERO SIN PARENTESIS\n",
    "\n",
    "#*Caracteristicas y propiedades\n",
    "\n",
    "Los atributos no proporcionan una forma comoda de obtener una vision general\n",
    "\n",
    "#?dtypes --> Nos indica el tipo de datos (pandas tiene su propio tipo de dato)\n",
    "Tipos de datos              python      pandas\n",
    "string                      str         object\n",
    "numero entero               int         int64\n",
    "numero de coma flotante     float       float 4\n",
    "tipo de dato logico         bool        bool\n",
    "# TODO Cualquier otro tipo de dato se marca como object)\n",
    "\n",
    "#?columns --> Nombres de las columnas\n",
    "Acceder al nombre de la columna y el tipo de dato de estas\n",
    "\n",
    "\n",
    "#?shape --> Comprender el tamanio de la tabla\n",
    "df.shape para saber el tamanio #Regresa una tupla\n",
    "\n",
    "#*Tupla\n",
    "Al igual que las listas y diccionarios es una estructura de datos\n",
    "Son imutables\n",
    "\n",
    "\n",
    "\n",
    "\n",
    "'''"
   ]
  }
 ],
 "metadata": {
  "language_info": {
   "name": "python"
  }
 },
 "nbformat": 4,
 "nbformat_minor": 5
}
