{
 "cells": [
  {
   "cell_type": "code",
   "execution_count": null,
   "id": "82a6a1d4",
   "metadata": {},
   "outputs": [],
   "source": [
    "#head() sin argumentos se muestra los primeros 5 datos\n",
    "#tail() sin argumentos se muestra los ultimos 5 datos\n",
    "#csv valores separados por comas\n",
    "#df=pd.red_excel(archivo.xlsx)  ##xlsx x"
   ]
  },
  {
   "cell_type": "code",
   "execution_count": null,
   "id": "533f35f3",
   "metadata": {},
   "outputs": [],
   "source": []
  },
  {
   "cell_type": "code",
   "execution_count": null,
   "id": "3b60f8f6",
   "metadata": {},
   "outputs": [],
   "source": []
  }
 ],
 "metadata": {
  "language_info": {
   "name": "python"
  }
 },
 "nbformat": 4,
 "nbformat_minor": 5
}
