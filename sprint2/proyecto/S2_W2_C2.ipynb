{
  "cells": [
    {
      "cell_type": "markdown",
      "metadata": {
        "id": "JotXunZRIClk"
      },
      "source": [
        "# BASES DE PYTHON\n",
        "\n",
        "*   Condicionales\n",
        "*   Loops\n",
        "*   Funciones\n",
        "*   Errores y excepciones\n",
        "\n"
      ]
    },
    {
      "cell_type": "markdown",
      "metadata": {
        "id": "dxyWQi8EUSyl"
      },
      "source": [
        "## Condicionales"
      ]
    },
    {
      "cell_type": "markdown",
      "metadata": {
        "id": "ezg0_yztAlJ2"
      },
      "source": [
        "Comparar\n",
        "\n",
        "* menor <\n",
        "* mayor >\n",
        "* igual == (no usar = debido a que es el simbolo de asignacion)\n",
        "* diferente !="
      ]
    },
    {
      "cell_type": "code",
      "execution_count": null,
      "metadata": {
        "colab": {
          "base_uri": "https://localhost:8080/"
        },
        "id": "sXkBWaoJMcqI",
        "outputId": "89b73a11-6257-4846-ed56-bfe26d4d79c7"
      },
      "outputs": [
        {
          "output_type": "execute_result",
          "data": {
            "text/plain": [
              "False"
            ]
          },
          "metadata": {},
          "execution_count": 1
        }
      ],
      "source": [
        "# asignando...\n",
        "var = 15\n",
        "\n",
        "# comparando\n",
        "var == 20220820"
      ]
    },
    {
      "cell_type": "code",
      "execution_count": null,
      "metadata": {
        "id": "rD5-VSPHAlJ2",
        "colab": {
          "base_uri": "https://localhost:8080/"
        },
        "outputId": "17736c73-f602-47c4-d3e6-8c6e8f658b6d"
      },
      "outputs": [
        {
          "output_type": "execute_result",
          "data": {
            "text/plain": [
              "True"
            ]
          },
          "metadata": {},
          "execution_count": 2
        }
      ],
      "source": [
        "# asignando...\n",
        "var = 15\n",
        "\n",
        "# comparando\n",
        "var < 20220820"
      ]
    },
    {
      "cell_type": "code",
      "source": [
        "if 0 == 0:\n",
        "  print(\"Hola\")\n",
        "  print(\"\")\n",
        "else:\n",
        "  print(\"otra cosa\")"
      ],
      "metadata": {
        "colab": {
          "base_uri": "https://localhost:8080/"
        },
        "id": "PVygN-YiNMFS",
        "outputId": "28d55f44-84d7-4ac7-fc96-13c717fabd93"
      },
      "execution_count": null,
      "outputs": [
        {
          "output_type": "stream",
          "name": "stdout",
          "text": [
            "Hola\n",
            "\n"
          ]
        }
      ]
    },
    {
      "cell_type": "code",
      "execution_count": null,
      "metadata": {
        "id": "WaRTtgK_AlJ2",
        "colab": {
          "base_uri": "https://localhost:8080/"
        },
        "outputId": "d5800774-82f4-45fa-bd5d-f02788d0aafa"
      },
      "outputs": [
        {
          "output_type": "stream",
          "name": "stdout",
          "text": [
            "no es menor\n"
          ]
        }
      ],
      "source": [
        "# si cumple una condicion realice una accion....\n",
        "\n",
        "var = 9e99 # uso = para asignar\n",
        "\n",
        "# usando un IF(si se cumple...) ELIF (otra condición) ELSE (todo caso contrario)\n",
        "if var < 20220820:\n",
        "  print(\"es menor\")\n",
        "else :\n",
        "  print('no es menor')"
      ]
    },
    {
      "cell_type": "code",
      "execution_count": null,
      "metadata": {
        "id": "9tfyjSAAAlJ2",
        "colab": {
          "base_uri": "https://localhost:8080/"
        },
        "outputId": "f8b96618-bcf4-425c-ff8b-6503b3724714"
      },
      "outputs": [
        {
          "output_type": "stream",
          "name": "stdout",
          "text": [
            "feliz\n"
          ]
        }
      ],
      "source": [
        "# CONDICION DE ARRANQUE\n",
        "# la hija  de camilo es hincha de un equipo\n",
        "camilo = 'No sabe'\n",
        "hija = 'Santafe'\n",
        "\n",
        "# el papá va a reaccionar según...\n",
        "if (hija == 'Santafe'):\n",
        "    camilo = 'feliz' # accion a realizar (asignacion de informacion)\n",
        "\n",
        "# mostrar en pantalla contenido de variable camilo\n",
        "print(camilo)"
      ]
    },
    {
      "cell_type": "code",
      "execution_count": null,
      "metadata": {
        "id": "3_9K_4k5AlJ3",
        "colab": {
          "base_uri": "https://localhost:8080/"
        },
        "outputId": "5553a2b9-13b3-4aa5-bc40-244b9a4f8d4e"
      },
      "outputs": [
        {
          "output_type": "stream",
          "name": "stdout",
          "text": [
            "preocupado\n"
          ]
        }
      ],
      "source": [
        "# CONDICION DE ARRANQUE\n",
        "# la hija  de camilo es hincha de un equipo\n",
        "camilo = 'No sabe'\n",
        "hija = 'Millos'\n",
        "\n",
        "\n",
        "# el papá va a reaccionar según...\n",
        "if (hija == 'Santafe'): # condicion\n",
        "    camilo = 'feliz' # acciones\n",
        "else:\n",
        "    camilo = 'preocupado' # acciones\n",
        "\n",
        "\n",
        "# mostrar en pantalla contenido de variable camilo\n",
        "print(camilo)"
      ]
    },
    {
      "cell_type": "code",
      "execution_count": null,
      "metadata": {
        "id": "D9ldTOZWAlJ3",
        "colab": {
          "base_uri": "https://localhost:8080/"
        },
        "outputId": "2e54b134-301f-49a9-ddcb-b01b2b092153"
      },
      "outputs": [
        {
          "output_type": "stream",
          "name": "stdout",
          "text": [
            "Furioso\n"
          ]
        }
      ],
      "source": [
        "# CONDICION DE ARRANQUE\n",
        "# la hija  de camilo es hincha de un equipo\n",
        "camilo = 'No sabe'\n",
        "hija = 'Millonarios'\n",
        "\n",
        "\n",
        "# el papá va a reaccionar según... # usando un IF(si se cumple...) ELIF (otra condición) ELSE (todo caso contrario)\n",
        "if (hija == 'Santafe'): # 1ra condicion\n",
        "    camilo = 'feliz' # acciones\n",
        "elif (hija == 'Millonarios'):\n",
        "    camilo = 'Furioso' #2da condicion\n",
        "elif (hija == 'Junior'):\n",
        "    camilo = 'La niña es del ICBF' #3da condicion\n",
        "elif (hija == 'Millonarios'):\n",
        "    camilo = 'bravo' #4ta condicion\n",
        "else: # todo lo contrario (todos los demas casos)\n",
        "    camilo = 'preocupado' # acciones\n",
        "\n",
        "# case when (casos)\n",
        "\n",
        "# mostrar en pantalla contenido de variable camilo\n",
        "print(camilo)"
      ]
    },
    {
      "cell_type": "code",
      "execution_count": null,
      "metadata": {
        "id": "TCtqklgCAlJ3"
      },
      "outputs": [],
      "source": [
        "# si cumple una condicion realice una accion....\n",
        "\n",
        "var = 15 # uso = para asignar\n",
        "\n",
        "if (var == 20220820): # usando un IF ELIF ELSE\n",
        "  print(\"es igual\")"
      ]
    },
    {
      "cell_type": "code",
      "execution_count": null,
      "metadata": {
        "id": "O3Hbj6acAlJ3",
        "colab": {
          "base_uri": "https://localhost:8080/"
        },
        "outputId": "074e3afc-7eb5-4076-851e-6e4f56d5a2fc"
      },
      "outputs": [
        {
          "output_type": "stream",
          "name": "stdout",
          "text": [
            "es mayor\n"
          ]
        }
      ],
      "source": [
        "# si cumple una condicion realice una accion....\n",
        "\n",
        "var = 99999999 # uso = para asignar\n",
        "\n",
        "if (var > 20220820): # usando un IF ELIF ELSE\n",
        "  print(\"es mayor\")"
      ]
    },
    {
      "cell_type": "code",
      "execution_count": null,
      "metadata": {
        "id": "j5zgBmg7UChI",
        "colab": {
          "base_uri": "https://localhost:8080/"
        },
        "outputId": "f67a5856-8382-40fe-b965-345f208dd65d"
      },
      "outputs": [
        {
          "output_type": "stream",
          "name": "stdout",
          "text": [
            "es exacto\n"
          ]
        }
      ],
      "source": [
        "var = 20220820 # uso = para asignar # si cumple una condicion realice una accion....\n",
        "\n",
        "if var < 20220820: # usando un IF ELIF ELSE\n",
        "  print(\"es menor\")\n",
        "elif var == 20220820: # uso == para comparar # elif en caso de que no se cumpla evalua otra condicion realice una  accion\n",
        "  print(\"es exacto\")\n",
        "else: # my_variable > 20220820 # en todo caso contrario realice una  accion\n",
        "  print(\"es mayor\")"
      ]
    },
    {
      "cell_type": "markdown",
      "metadata": {
        "id": "vC7X16TJVv_G"
      },
      "source": [
        "## Loops"
      ]
    },
    {
      "cell_type": "code",
      "source": [
        "# Recorrido\n",
        "# para cada i en el rango 1,2,...,9 muestre en pantalla el contenido de i\n",
        "for i in range(10):\n",
        "    print(i)"
      ],
      "metadata": {
        "colab": {
          "base_uri": "https://localhost:8080/"
        },
        "id": "XGyPo4ov94qB",
        "outputId": "a5af1533-e4c7-4989-c967-ce5a00468fff"
      },
      "execution_count": null,
      "outputs": [
        {
          "output_type": "stream",
          "name": "stdout",
          "text": [
            "0\n",
            "1\n",
            "2\n",
            "3\n",
            "4\n",
            "5\n",
            "6\n",
            "7\n",
            "8\n",
            "9\n"
          ]
        }
      ]
    },
    {
      "cell_type": "markdown",
      "metadata": {
        "id": "-eEA9H2lMcqM"
      },
      "source": [
        "* while"
      ]
    },
    {
      "cell_type": "code",
      "execution_count": null,
      "metadata": {
        "id": "v1JoIc8uVf1B",
        "colab": {
          "base_uri": "https://localhost:8080/"
        },
        "outputId": "ca6a2c30-260c-40ff-e73d-d79bb4210bd2"
      },
      "outputs": [
        {
          "output_type": "stream",
          "name": "stdout",
          "text": [
            "2022\n",
            "08\n",
            "20\n"
          ]
        }
      ],
      "source": [
        "list = ['2022', '08', '20'] # creo una lista sobre la que quiero recorrer\n",
        "i = 0 # variable de control o de escape que inicia en cero # se desa que converja en algun momento\n",
        "\n",
        "while i < len(list): # mientras se cumpla una condicion\n",
        "  print(list[i]) # muestre en pantalla el elemento i de la lista\n",
        "  i += 1 # es lo mismo que escribir i = i + 1 # una instruccion para obligar a converger"
      ]
    },
    {
      "cell_type": "markdown",
      "metadata": {
        "id": "SZVyDr0rMcqM"
      },
      "source": [
        "* for"
      ]
    },
    {
      "cell_type": "code",
      "execution_count": null,
      "metadata": {
        "id": "kHWQ6soIVzY9",
        "colab": {
          "base_uri": "https://localhost:8080/"
        },
        "outputId": "9cfdb31a-d5be-4025-a4bc-0ed398af73fa"
      },
      "outputs": [
        {
          "output_type": "stream",
          "name": "stdout",
          "text": [
            "2022\n",
            "08\n",
            "20\n"
          ]
        }
      ],
      "source": [
        "list = ['2022', '08', '20']\n",
        "\n",
        "for i in range(len(list)): # para cada i en el rango de 0 al tamaño de la lista\n",
        "  print(list[i]) # usando la posicion del elemento la lista"
      ]
    },
    {
      "cell_type": "code",
      "execution_count": null,
      "metadata": {
        "id": "6ZOo98IPV65T",
        "colab": {
          "base_uri": "https://localhost:8080/"
        },
        "outputId": "a73eeb02-33dd-4f71-a190-73afe48fd202"
      },
      "outputs": [
        {
          "output_type": "stream",
          "name": "stdout",
          "text": [
            "2022\n",
            "08\n",
            "20\n"
          ]
        }
      ],
      "source": [
        "list = ['2022', '08', '20']\n",
        "\n",
        "for numero in list: # for usando la información del elemento la lista\n",
        "  print(numero)"
      ]
    },
    {
      "cell_type": "code",
      "execution_count": null,
      "metadata": {
        "id": "H3e1zoUGKSuo",
        "colab": {
          "base_uri": "https://localhost:8080/"
        },
        "outputId": "4012b5bb-a141-4f61-b721-20efd73d2def"
      },
      "outputs": [
        {
          "output_type": "stream",
          "name": "stdout",
          "text": [
            "2022\n",
            "08\n"
          ]
        }
      ],
      "source": [
        "list = ['2022', '08', '20']\n",
        "\n",
        "\n",
        "for i in range(len(list)):\n",
        "  print(list[i])\n",
        "\n",
        "  if i == 1: # condicion de break\n",
        "    break # romper el loop"
      ]
    },
    {
      "cell_type": "code",
      "execution_count": null,
      "metadata": {
        "id": "QyURwKVxAlJ4",
        "colab": {
          "base_uri": "https://localhost:8080/"
        },
        "outputId": "d6ac4c76-fc4f-4952-9b5a-48b234ca0722"
      },
      "outputs": [
        {
          "output_type": "stream",
          "name": "stdout",
          "text": [
            "han sido invitados  15 amigos a la fiesta\n",
            "repartir sorpresa a : Hugo\n",
            "repartir sorpresa a : Ivan\n",
            "repartir sorpresa a : Juan\n",
            "repartir sorpresa a : Lara\n",
            "repartir sorpresa a : Ana\n",
            "repartir sorpresa a : Enzo\n",
            "repartir sorpresa a : Leo\n",
            "repartir sorpresa a : Luz\n",
            "repartir sorpresa a : Mar\n"
          ]
        }
      ],
      "source": [
        "# fiesta con unos invitados\n",
        "list = ['Hugo','Ivan','Juan','Lara','Ana','Enzo','Leo','Luz','Mar','Nora','Angela','Eric','Eva','Raul','Sara']\n",
        "print('han sido invitados ',len(list), 'amigos a la fiesta')\n",
        "\n",
        "# solo tengo unas sorpresas para entregar\n",
        "sorpresas = 9\n",
        "\n",
        "# programa de reparticion de sorpresas\n",
        "for i in range(len(list)):\n",
        "  print('repartir sorpresa a :',list[i])\n",
        "  if i == (sorpresas-1): # condicion de break\n",
        "    break"
      ]
    },
    {
      "cell_type": "markdown",
      "metadata": {
        "id": "Zqdxm86VWRFP"
      },
      "source": [
        "## Funciones"
      ]
    },
    {
      "cell_type": "markdown",
      "metadata": {
        "id": "ISgUansdRn2b"
      },
      "source": [
        "Definición de nuevas instrucciones que reciben parametros llamados argumentos.\n",
        "\n",
        "* La documentación de una función se coloca luego del encabezado de la función, en un párrafo encerrado entre tres comillas dobles \"\"\"\n"
      ]
    },
    {
      "cell_type": "markdown",
      "metadata": {
        "id": "9XOpOeygAlJ5"
      },
      "source": [
        "* una función puede recibir un argumento de entrada o varios, sin embargo, tambien tambien puede no recibir ninguno"
      ]
    },
    {
      "cell_type": "code",
      "execution_count": null,
      "metadata": {
        "id": "OGuUuU--AlJ5"
      },
      "outputs": [],
      "source": [
        "def llegada_tarde(hora):\n",
        "  \"\"\"\n",
        "  se crea funcion para identificar si el alumno llega tarde a clase\n",
        "  variable hora debe ser numerica y corresponde a la hora de llegada del alumno\n",
        "  \"\"\"\n",
        "\n",
        "  if hora <= 6:\n",
        "      revision = 'El almuno llegó a tiempo'\n",
        "  elif hora <= 9:\n",
        "      revision = 'El almuno llegó a clase tarde'\n",
        "  else:\n",
        "      revision = 'El alumno no llegó a clase'\n",
        "  # regresa o entrega la funcion\n",
        "  return revision"
      ]
    },
    {
      "cell_type": "code",
      "execution_count": null,
      "metadata": {
        "id": "s3mF5EYvAlJ5",
        "colab": {
          "base_uri": "https://localhost:8080/"
        },
        "outputId": "877c2bd6-c2d0-445a-918c-3cd1616117ff"
      },
      "outputs": [
        {
          "output_type": "stream",
          "name": "stdout",
          "text": [
            "El almuno llegó a tiempo\n",
            "El almuno llegó a clase tarde\n",
            "El alumno no llegó a clase\n",
            "El alumno no llegó a clase\n"
          ]
        }
      ],
      "source": [
        "# evaluar si el alumno llego a la clase de 6 a 9\n",
        "hora = 11\n",
        "print(llegada_tarde(6))\n",
        "print(llegada_tarde(8))\n",
        "print(llegada_tarde(10))\n",
        "print(llegada_tarde(hora))"
      ]
    },
    {
      "cell_type": "code",
      "source": [
        "help(llegada_tarde)"
      ],
      "metadata": {
        "colab": {
          "base_uri": "https://localhost:8080/"
        },
        "id": "TUfJAGgBU2Mc",
        "outputId": "ead85063-98f4-4714-a64f-10aa9adfad89"
      },
      "execution_count": null,
      "outputs": [
        {
          "output_type": "stream",
          "name": "stdout",
          "text": [
            "Help on function llegada_tarde in module __main__:\n",
            "\n",
            "llegada_tarde(hora)\n",
            "    se crea funcion para identificar si el alumno llega tarde a clase\n",
            "    variable hora debe ser numerica y corresponde a la hora de llegada del alumno\n",
            "\n"
          ]
        }
      ]
    },
    {
      "cell_type": "code",
      "execution_count": null,
      "metadata": {
        "id": "5TaqQB2gAlJ5"
      },
      "outputs": [],
      "source": [
        "def llegada_tarde_recargada(hora_alumno,hora_entrada,hora_salida):\n",
        "    \"\"\"\n",
        "    se crea funcion para identificar si el alumno llega tarde a clase\n",
        "    variable hora alumno debe ser numerica y corresponde a la hora de llegada del alumno\n",
        "    variable hora entrada a clase debe ser numerica\n",
        "    variable hora salida a clase debe ser numerica\n",
        "    \"\"\"\n",
        "\n",
        "    if hora_alumno <= hora_entrada:\n",
        "        revision = 'El almuno llegó a tiempo'\n",
        "    elif hora_alumno <= hora_salida:\n",
        "        revision = 'El almuno llegó a clase tarde'\n",
        "    else:\n",
        "        revision = 'El alumno no llegó a clase'\n",
        "    return revision"
      ]
    },
    {
      "cell_type": "code",
      "execution_count": null,
      "metadata": {
        "id": "CFB9yg7OAlJ6",
        "colab": {
          "base_uri": "https://localhost:8080/"
        },
        "outputId": "9268c705-51c5-49c9-c473-49242d9f943b"
      },
      "outputs": [
        {
          "output_type": "stream",
          "name": "stdout",
          "text": [
            "El almuno llegó a clase tarde\n",
            "El almuno llegó a clase tarde\n",
            "El almuno llegó a tiempo\n",
            "El alumno no llegó a clase\n",
            "El almuno llegó a tiempo\n",
            "El almuno llegó a clase tarde\n"
          ]
        }
      ],
      "source": [
        "# evaluar si el alumno llego a la clase en las horas debidas\n",
        "print(llegada_tarde_recargada(hora_alumno = 9, hora_entrada = 6, hora_salida = 9))\n",
        "print(llegada_tarde_recargada(9,8,12))\n",
        "print(llegada_tarde_recargada(9,12,15))\n",
        "print(llegada_tarde_recargada(17,12,15))\n",
        "print(llegada_tarde_recargada(9,20,22))\n",
        "print(llegada_tarde_recargada(21,20,22))"
      ]
    },
    {
      "cell_type": "code",
      "execution_count": null,
      "metadata": {
        "id": "nTJGI89kRldR"
      },
      "outputs": [],
      "source": [
        "def mifunciondelosviernes(tematica):\n",
        "  \"\"\"\n",
        "  esta funcion entrega una oracion informando la funcion de los viernes y su tematica\n",
        "  la variable tematica es una cadena de caracteres\n",
        "  \"\"\"\n",
        "\n",
        "  resultado = 'La función de este viernes es '+ str(tematica)\n",
        "  return resultado"
      ]
    },
    {
      "cell_type": "code",
      "execution_count": null,
      "metadata": {
        "id": "1cMvBgaKSi6w",
        "colab": {
          "base_uri": "https://localhost:8080/"
        },
        "outputId": "5ed71626-b95e-4bd2-f34a-2e8035fc9bf8"
      },
      "outputs": [
        {
          "output_type": "stream",
          "name": "stdout",
          "text": [
            "La función de este viernes es Merengue\n",
            "La función de este viernes es Rock\n",
            "La función de este viernes es 12\n"
          ]
        }
      ],
      "source": [
        "print(mifunciondelosviernes('Merengue'))\n",
        "print(mifunciondelosviernes('Rock'))\n",
        "print(mifunciondelosviernes(12))"
      ]
    },
    {
      "cell_type": "code",
      "execution_count": null,
      "metadata": {
        "id": "JL2l5TBXWGAI"
      },
      "outputs": [],
      "source": [
        "def func_exp(x):\n",
        "  \"\"\" x debe ser un numero y va a devolver el mismo numero al cuadrado \"\"\"\n",
        "  y = x ** 2\n",
        "  return y"
      ]
    },
    {
      "cell_type": "code",
      "execution_count": null,
      "metadata": {
        "id": "XuJF4egh6RKe",
        "colab": {
          "base_uri": "https://localhost:8080/"
        },
        "outputId": "ebda0172-56ad-44b2-8cc5-74361f03b080"
      },
      "outputs": [
        {
          "output_type": "execute_result",
          "data": {
            "text/plain": [
              "9"
            ]
          },
          "metadata": {},
          "execution_count": 27
        }
      ],
      "source": [
        "func_exp(3)"
      ]
    },
    {
      "cell_type": "code",
      "execution_count": null,
      "metadata": {
        "id": "WBikvqhF4cNP"
      },
      "outputs": [],
      "source": [
        "def func_exp(x, exp):\n",
        "  \"\"\" x debe ser un numero y exp debe ser un numero y va a devolver el mismo numero elevado a exp\"\"\"\n",
        "  y = x ** exp\n",
        "  return y"
      ]
    },
    {
      "cell_type": "code",
      "execution_count": null,
      "metadata": {
        "id": "ZhHOFz1EMcqN",
        "colab": {
          "base_uri": "https://localhost:8080/"
        },
        "outputId": "7de9caf6-4dfe-4a41-e4d8-4ad2504ea32f"
      },
      "outputs": [
        {
          "output_type": "stream",
          "name": "stdout",
          "text": [
            "Help on function func_exp in module __main__:\n",
            "\n",
            "func_exp(x, exp)\n",
            "    x debe ser un numero y exp debe ser un numero y va a devolver el mismo numero elevado a exp\n",
            "\n"
          ]
        }
      ],
      "source": [
        "help(func_exp)"
      ]
    },
    {
      "cell_type": "code",
      "execution_count": null,
      "metadata": {
        "id": "EATiXTwy6Zjz",
        "colab": {
          "base_uri": "https://localhost:8080/"
        },
        "outputId": "b2dfa88c-7b1c-4924-b549-ef8ef1a0faa2"
      },
      "outputs": [
        {
          "output_type": "execute_result",
          "data": {
            "text/plain": [
              "1000"
            ]
          },
          "metadata": {},
          "execution_count": 31
        }
      ],
      "source": [
        "func_exp(x = 10,exp = 3) # 10x10x10"
      ]
    },
    {
      "cell_type": "code",
      "execution_count": null,
      "metadata": {
        "id": "t0Ta1BSg4bsy"
      },
      "outputs": [],
      "source": [
        "# funciones anidades o funciones dentro de funciones\n",
        "def func_exp_texto(x, exp):\n",
        "  \"\"\" Aquí debe documentar la función. \"\"\"\n",
        "  y = func_exp(x, exp) # calculeme el resultado\n",
        "  txt = \"{0} elevado a la {1} es igual a {2}.\".format(x, exp, y) # use las parametros de entrada y el resultado en una cadena de texto\n",
        "  return txt"
      ]
    },
    {
      "cell_type": "code",
      "execution_count": null,
      "metadata": {
        "id": "kEXecjloTRtV",
        "colab": {
          "base_uri": "https://localhost:8080/",
          "height": 36
        },
        "outputId": "f45634f3-9c1a-4a71-8de8-60153d147119"
      },
      "outputs": [
        {
          "output_type": "execute_result",
          "data": {
            "text/plain": [
              "'2 elevado a la 4 es igual a 16.'"
            ],
            "application/vnd.google.colaboratory.intrinsic+json": {
              "type": "string"
            }
          },
          "metadata": {},
          "execution_count": 35
        }
      ],
      "source": [
        "func_exp_texto(2,4) # 4x4x4 = 64"
      ]
    },
    {
      "cell_type": "code",
      "execution_count": null,
      "metadata": {
        "id": "knvx9TAkOTaf"
      },
      "outputs": [],
      "source": [
        "# tuplas\n",
        "def func_exp_2_3(x):\n",
        "  \"\"\" Aquí debe documentar la función. \"\"\"\n",
        "  y_1 = x ** 2\n",
        "  y_2 = x ** 3\n",
        "  return (y_1, y_2)"
      ]
    },
    {
      "cell_type": "code",
      "execution_count": null,
      "metadata": {
        "id": "t-NUvrclTToo",
        "colab": {
          "base_uri": "https://localhost:8080/"
        },
        "outputId": "9080cbfc-ca4d-4a3f-d8f7-99c9824e3552"
      },
      "outputs": [
        {
          "output_type": "stream",
          "name": "stdout",
          "text": [
            "<class 'int'>\n",
            "16\n",
            "<class 'int'>\n",
            "64\n",
            "<class 'tuple'>\n",
            "64\n"
          ]
        }
      ],
      "source": [
        "a, b = func_exp_2_3(4) # 4x4 = 16 , 4x4x4 = 6\n",
        "print(type(a)) # clase de objeto\n",
        "print(a)\n",
        "print(type(b))\n",
        "print(b)\n",
        "c = func_exp_2_3(4)\n",
        "print(type(c))\n",
        "print(c)"
      ]
    },
    {
      "cell_type": "markdown",
      "metadata": {
        "id": "bAOwhfGMUIn6"
      },
      "source": [
        "## Errores y excepciones"
      ]
    },
    {
      "cell_type": "markdown",
      "metadata": {
        "id": "6mJtaWhoVN_I"
      },
      "source": [
        "Los errores de ejecución son llamados comúnmente excepciones. \\\n",
        "Durante la ejecución de un programa, si dentro de una función surge una excepción y la función no la maneja, la excepción se propaga hacia la función que la invocó, si esta otra tampoco la maneja, la excepción continua propagándose hasta llegar a la función inicial del programa y si esta tampoco la maneja se interrumpe la ejecución del programa"
      ]
    },
    {
      "cell_type": "code",
      "execution_count": null,
      "metadata": {
        "id": "Yw8oxx4oKw5P",
        "colab": {
          "base_uri": "https://localhost:8080/",
          "height": 176
        },
        "outputId": "665474e3-7198-4595-9128-1e8e4530f96b"
      },
      "outputs": [
        {
          "output_type": "error",
          "ename": "ZeroDivisionError",
          "evalue": "division by zero",
          "traceback": [
            "\u001b[0;31m---------------------------------------------------------------------------\u001b[0m",
            "\u001b[0;31mZeroDivisionError\u001b[0m                         Traceback (most recent call last)",
            "\u001b[0;32m/tmp/ipython-input-3497457637.py\u001b[0m in \u001b[0;36m<cell line: 0>\u001b[0;34m()\u001b[0m\n\u001b[1;32m      1\u001b[0m \u001b[0mdividendo\u001b[0m \u001b[0;34m=\u001b[0m \u001b[0;36m5\u001b[0m\u001b[0;34m\u001b[0m\u001b[0;34m\u001b[0m\u001b[0m\n\u001b[1;32m      2\u001b[0m \u001b[0mdivisor\u001b[0m \u001b[0;34m=\u001b[0m \u001b[0;36m0\u001b[0m\u001b[0;34m\u001b[0m\u001b[0;34m\u001b[0m\u001b[0m\n\u001b[0;32m----> 3\u001b[0;31m \u001b[0mdividendo\u001b[0m \u001b[0;34m/\u001b[0m \u001b[0mdivisor\u001b[0m\u001b[0;34m\u001b[0m\u001b[0;34m\u001b[0m\u001b[0m\n\u001b[0m",
            "\u001b[0;31mZeroDivisionError\u001b[0m: division by zero"
          ]
        }
      ],
      "source": [
        "dividendo = 5\n",
        "divisor = 0\n",
        "dividendo / divisor"
      ]
    },
    {
      "cell_type": "code",
      "execution_count": null,
      "metadata": {
        "id": "aVlbPG3OUICP",
        "colab": {
          "base_uri": "https://localhost:8080/"
        },
        "outputId": "9804be77-4aa3-4d87-d901-6b1201fd2c04"
      },
      "outputs": [
        {
          "output_type": "stream",
          "name": "stdout",
          "text": [
            "No se permite la división por cero\n"
          ]
        }
      ],
      "source": [
        "dividendo = 5\n",
        "divisor = 0\n",
        "\n",
        "try: # intente realizar...\n",
        "  cociente = dividendo / divisor\n",
        "  print(cociente)\n",
        "except: # en caso de no poder realizarlo, haga lo siguiente\n",
        "  print(\"No se permite la división por cero\")"
      ]
    },
    {
      "cell_type": "code",
      "execution_count": null,
      "metadata": {
        "id": "7m2SlrXWAlJ8",
        "colab": {
          "base_uri": "https://localhost:8080/",
          "height": 176
        },
        "outputId": "7b77e410-5f44-4aca-b827-e4ea57ca1700"
      },
      "outputs": [
        {
          "output_type": "error",
          "ename": "IndexError",
          "evalue": "string index out of range",
          "traceback": [
            "\u001b[0;31m---------------------------------------------------------------------------\u001b[0m",
            "\u001b[0;31mIndexError\u001b[0m                                Traceback (most recent call last)",
            "\u001b[0;32m/tmp/ipython-input-1896114316.py\u001b[0m in \u001b[0;36m<cell line: 0>\u001b[0;34m()\u001b[0m\n\u001b[1;32m      1\u001b[0m \u001b[0mtxt\u001b[0m \u001b[0;34m=\u001b[0m \u001b[0;34m'siete'\u001b[0m \u001b[0;31m# asigno un texto a una variable\u001b[0m\u001b[0;34m\u001b[0m\u001b[0;34m\u001b[0m\u001b[0m\n\u001b[1;32m      2\u001b[0m \u001b[0;34m\u001b[0m\u001b[0m\n\u001b[0;32m----> 3\u001b[0;31m \u001b[0mprint\u001b[0m\u001b[0;34m(\u001b[0m\u001b[0mtxt\u001b[0m\u001b[0;34m[\u001b[0m\u001b[0;36m7\u001b[0m\u001b[0;34m]\u001b[0m\u001b[0;34m)\u001b[0m\u001b[0;34m\u001b[0m\u001b[0;34m\u001b[0m\u001b[0m\n\u001b[0m",
            "\u001b[0;31mIndexError\u001b[0m: string index out of range"
          ]
        }
      ],
      "source": [
        "txt = 'siete' # asigno un texto a una variable\n",
        "\n",
        "print(txt[7])"
      ]
    },
    {
      "cell_type": "code",
      "execution_count": null,
      "metadata": {
        "id": "3W55wnfLVZ1z",
        "colab": {
          "base_uri": "https://localhost:8080/"
        },
        "outputId": "3ffc54af-a130-44ce-b699-118a1d5bc0ac"
      },
      "outputs": [
        {
          "output_type": "stream",
          "name": "stdout",
          "text": [
            "Ojo : no es por ahí No existe el elemento buscado\n"
          ]
        }
      ],
      "source": [
        "txt = 'siete' # asigno un texto a una variable\n",
        "\n",
        "try: # intente realizar...\n",
        "  print(txt[7])\n",
        "except: # en caso de no poder realizarlo, haga lo siguiente\n",
        "  print(\"Ojo : no es por ahí No existe el elemento buscado\")"
      ]
    }
  ],
  "metadata": {
    "colab": {
      "provenance": []
    },
    "kernelspec": {
      "display_name": "Python 3",
      "language": "python",
      "name": "python3"
    },
    "language_info": {
      "codemirror_mode": {
        "name": "ipython",
        "version": 3
      },
      "file_extension": ".py",
      "mimetype": "text/x-python",
      "name": "python",
      "nbconvert_exporter": "python",
      "pygments_lexer": "ipython3",
      "version": "3.12.7"
    }
  },
  "nbformat": 4,
  "nbformat_minor": 0
}