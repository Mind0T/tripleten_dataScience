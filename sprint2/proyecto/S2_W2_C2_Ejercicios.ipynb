{
  "cells": [
    {
      "cell_type": "markdown",
      "id": "37803673",
      "metadata": {
        "id": "37803673"
      },
      "source": [
        "# Data Analytics: Listas y Bucles"
      ]
    },
    {
      "cell_type": "markdown",
      "id": "02608763",
      "metadata": {
        "id": "02608763"
      },
      "source": [
        "## Objetivo de la Clase\n",
        "En esta clase, exploraremos los conceptos fundamentales de Python, comenzando con listas y avanzando hacia el uso de bucles y sentencias condicionales. Los estudiantes aprenderán a manipular datos, realizar operaciones iterativas y aplicar lógica condicional, habilidades esenciales para la análisis de datos."
      ]
    },
    {
      "cell_type": "markdown",
      "id": "95efa5e1",
      "metadata": {
        "id": "95efa5e1"
      },
      "source": [
        "### Primer Momento - Sprint 1: Listas\n",
        "\n",
        "- Propiedades básicas de listas\n",
        "- Índices y slices\n",
        "- Modificación de listas\n",
        "- Ordenar listas\n",
        "- Listas anidadas\n",
        "- Procesamiento de strings"
      ]
    },
    {
      "cell_type": "markdown",
      "id": "8ce04147",
      "metadata": {
        "id": "8ce04147"
      },
      "source": [
        "#### Ejercicio 1: Crear y Modificar Listas\n",
        "1. Crea una lista con los números del 1 al 10. Luego modifica el tercer elemento para que sea el número 100.\n",
        "- **Hint**: Recuerda que los índices empiezan desde cero."
      ]
    },
    {
      "cell_type": "code",
      "execution_count": null,
      "id": "9fa52379-6262-4cb1-941f-abfba585a11e",
      "metadata": {
        "id": "9fa52379-6262-4cb1-941f-abfba585a11e"
      },
      "outputs": [],
      "source": [
        "# Inicimos el código aquí"
      ]
    },
    {
      "cell_type": "code",
      "execution_count": null,
      "id": "48d65a02-3b1a-4db2-82fb-631432110ce6",
      "metadata": {
        "id": "48d65a02-3b1a-4db2-82fb-631432110ce6"
      },
      "outputs": [],
      "source": [
        "lista = [1,2,3,4,5,6,7,8,9,10] # cual es el indice 10?"
      ]
    },
    {
      "cell_type": "code",
      "execution_count": null,
      "id": "eb5cb896-43bd-49dd-8aa4-bc815c4d20b8",
      "metadata": {
        "id": "eb5cb896-43bd-49dd-8aa4-bc815c4d20b8"
      },
      "outputs": [],
      "source": [
        "lista[2]=100"
      ]
    },
    {
      "cell_type": "code",
      "execution_count": null,
      "id": "eaf96788-9244-4dba-91d5-89b077918a69",
      "metadata": {
        "colab": {
          "base_uri": "https://localhost:8080/"
        },
        "id": "eaf96788-9244-4dba-91d5-89b077918a69",
        "outputId": "131977ab-771d-4e54-c95f-631f6f9ae31e"
      },
      "outputs": [
        {
          "output_type": "execute_result",
          "data": {
            "text/plain": [
              "100"
            ]
          },
          "metadata": {},
          "execution_count": 3
        }
      ],
      "source": [
        "lista[2]"
      ]
    },
    {
      "cell_type": "code",
      "execution_count": null,
      "id": "7b0b4d8a-c411-4811-b642-62224ff1bf16",
      "metadata": {
        "colab": {
          "base_uri": "https://localhost:8080/"
        },
        "id": "7b0b4d8a-c411-4811-b642-62224ff1bf16",
        "outputId": "3d545ed4-1d0d-4015-b2a4-0590a1277e0e"
      },
      "outputs": [
        {
          "output_type": "stream",
          "name": "stdout",
          "text": [
            "[1, 2, 100, 4, 5, 6, 7, 8, 9, 10]\n"
          ]
        }
      ],
      "source": [
        "print(lista)"
      ]
    },
    {
      "cell_type": "code",
      "execution_count": null,
      "id": "54958172-87ae-4bc5-834c-1a9239f3e0f7",
      "metadata": {
        "id": "54958172-87ae-4bc5-834c-1a9239f3e0f7"
      },
      "outputs": [],
      "source": [
        "variable1 = 2\n",
        "variable2 = 100\n",
        "variable1 = variable2"
      ]
    },
    {
      "cell_type": "code",
      "execution_count": null,
      "id": "d009123e-77d1-45c5-8af7-eead275ee596",
      "metadata": {
        "colab": {
          "base_uri": "https://localhost:8080/"
        },
        "id": "d009123e-77d1-45c5-8af7-eead275ee596",
        "outputId": "39431c06-c4d5-4243-fbaa-02c4695b7f20"
      },
      "outputs": [
        {
          "output_type": "stream",
          "name": "stdout",
          "text": [
            "100\n"
          ]
        }
      ],
      "source": [
        "print(variable1)"
      ]
    },
    {
      "cell_type": "code",
      "execution_count": null,
      "id": "5a5bdf83",
      "metadata": {
        "colab": {
          "base_uri": "https://localhost:8080/"
        },
        "id": "5a5bdf83",
        "outputId": "6e8ca20a-561f-4458-92cc-5d89a6eae4f1"
      },
      "outputs": [
        {
          "output_type": "execute_result",
          "data": {
            "text/plain": [
              "[1, 2, 100, 4, 5, 6, 7, 8, 9, 10]"
            ]
          },
          "metadata": {},
          "execution_count": 7
        }
      ],
      "source": [
        "# Hagamos de cuenta que esta celda no existe\n",
        "mi_lista = [1,2,3,4,5,6,7,8,9,10] # esto es nuevo\n",
        "mi_lista[2] = 100\n",
        "mi_lista"
      ]
    },
    {
      "cell_type": "markdown",
      "id": "7763e300",
      "metadata": {
        "id": "7763e300"
      },
      "source": [
        "- [ ] **Check:** ¿Puedes ver cómo se modificó el tercer elemento?"
      ]
    },
    {
      "cell_type": "markdown",
      "id": "3b1d1010",
      "metadata": {
        "id": "3b1d1010"
      },
      "source": [
        "#### Ejercicio 2: Uso de Slices\n",
        "2. Extrae los primeros cinco elementos de la lista.\n",
        "- **Hint**: Utiliza la sintaxis `lista[inicio:fin]` para hacer slices."
      ]
    },
    {
      "cell_type": "code",
      "execution_count": null,
      "id": "9a41ab27-e6bd-436f-af80-f4ec01dc3f75",
      "metadata": {
        "id": "9a41ab27-e6bd-436f-af80-f4ec01dc3f75"
      },
      "outputs": [],
      "source": [
        "# Inicimos el código aquí\n"
      ]
    },
    {
      "cell_type": "code",
      "execution_count": null,
      "id": "d1a974f8-3de9-44a6-a81c-8be6efacbec6",
      "metadata": {
        "id": "d1a974f8-3de9-44a6-a81c-8be6efacbec6"
      },
      "outputs": [],
      "source": [
        "lista=[\"a\",\"b\",\"c\",\"d\",\"f\",\"g\",\"h\",\"i\"]"
      ]
    },
    {
      "cell_type": "code",
      "execution_count": null,
      "id": "e858dc8c-490e-47fb-ba98-0c7cc4a4bdac",
      "metadata": {
        "colab": {
          "base_uri": "https://localhost:8080/"
        },
        "id": "e858dc8c-490e-47fb-ba98-0c7cc4a4bdac",
        "outputId": "f96ffe3b-677d-427c-b167-031b19aef44f"
      },
      "outputs": [
        {
          "output_type": "stream",
          "name": "stdout",
          "text": [
            "['a', 'b', 'c', 'd', 'f', 'g', 'h', 'i']\n"
          ]
        }
      ],
      "source": [
        "print(lista)"
      ]
    },
    {
      "cell_type": "code",
      "execution_count": null,
      "id": "cbcc9dc3-2c90-4a9d-b0e5-2f1b91b0febf",
      "metadata": {
        "colab": {
          "base_uri": "https://localhost:8080/"
        },
        "id": "cbcc9dc3-2c90-4a9d-b0e5-2f1b91b0febf",
        "outputId": "b5990c8f-435d-4e31-88fe-b697dcdafc3e"
      },
      "outputs": [
        {
          "output_type": "stream",
          "name": "stdout",
          "text": [
            "['a', 'b', 'c', 'd', 'f']\n"
          ]
        }
      ],
      "source": [
        "print(lista[0:5])"
      ]
    },
    {
      "cell_type": "code",
      "execution_count": null,
      "id": "7aec21f7",
      "metadata": {
        "scrolled": true,
        "colab": {
          "base_uri": "https://localhost:8080/"
        },
        "id": "7aec21f7",
        "outputId": "7b01df08-2f72-44b6-ad47-87dde787009a"
      },
      "outputs": [
        {
          "output_type": "execute_result",
          "data": {
            "text/plain": [
              "['b', 'c', 'd', 'f']"
            ]
          },
          "metadata": {},
          "execution_count": 12
        }
      ],
      "source": [
        "mi_slice = lista[1:5]\n",
        "mi_slice"
      ]
    },
    {
      "cell_type": "markdown",
      "id": "6bcbe767",
      "metadata": {
        "id": "6bcbe767"
      },
      "source": [
        "- [ ] **Check:** ¿Entiendes cómo funcionan los slices en listas?"
      ]
    },
    {
      "cell_type": "markdown",
      "id": "215b2521",
      "metadata": {
        "id": "215b2521"
      },
      "source": [
        "#### Ejercicio 3: Ordenar una Lista\n",
        "3. Crea una lista con valores desordenados y ordénalos en orden ascendente.\n",
        "- **Hint**: Puedes usar el método `.sort()` o la función `sorted()`."
      ]
    },
    {
      "cell_type": "code",
      "execution_count": null,
      "id": "137ec3a5-0d80-4588-b9be-357ca8edb2ae",
      "metadata": {
        "id": "137ec3a5-0d80-4588-b9be-357ca8edb2ae"
      },
      "outputs": [],
      "source": [
        "# Inicimos el código aquí"
      ]
    },
    {
      "cell_type": "code",
      "execution_count": null,
      "id": "89bd6613-a3ed-4fe4-9307-7218b791ca3b",
      "metadata": {
        "colab": {
          "base_uri": "https://localhost:8080/"
        },
        "id": "89bd6613-a3ed-4fe4-9307-7218b791ca3b",
        "outputId": "fe7bf7ba-b23f-465f-aeed-a262fdea55b5"
      },
      "outputs": [
        {
          "output_type": "stream",
          "name": "stdout",
          "text": [
            "[9, 1, 2, 6, 3, 7]\n"
          ]
        }
      ],
      "source": [
        "lista_desordenada = [9,1,2,6,3,7]\n",
        "print(lista_desordenada)"
      ]
    },
    {
      "cell_type": "code",
      "execution_count": null,
      "id": "455eb6b5-e331-47fb-8152-7e0a478c2c5d",
      "metadata": {
        "colab": {
          "base_uri": "https://localhost:8080/"
        },
        "id": "455eb6b5-e331-47fb-8152-7e0a478c2c5d",
        "outputId": "f46249f8-7df2-4b63-c885-5442352fe6fe"
      },
      "outputs": [
        {
          "output_type": "stream",
          "name": "stdout",
          "text": [
            "[1, 2, 3, 6, 7, 9]\n"
          ]
        }
      ],
      "source": [
        "lista_desordenada.sort()\n",
        "print(lista_desordenada)"
      ]
    },
    {
      "cell_type": "code",
      "execution_count": null,
      "id": "f9fc5030-2d0a-43eb-b1c4-83330bca3815",
      "metadata": {
        "colab": {
          "base_uri": "https://localhost:8080/"
        },
        "id": "f9fc5030-2d0a-43eb-b1c4-83330bca3815",
        "outputId": "f16d2a44-564c-4512-f9f9-0c097b5209c5"
      },
      "outputs": [
        {
          "output_type": "stream",
          "name": "stdout",
          "text": [
            "[1, 2, 3, 6, 7, 9]\n"
          ]
        }
      ],
      "source": [
        "variable1 = sorted(lista_desordenada)\n",
        "print(lista_desordenada)"
      ]
    },
    {
      "cell_type": "code",
      "execution_count": null,
      "id": "d36ad999-a61e-4c65-90df-63683a2e2bb6",
      "metadata": {
        "colab": {
          "base_uri": "https://localhost:8080/"
        },
        "id": "d36ad999-a61e-4c65-90df-63683a2e2bb6",
        "outputId": "dd853402-20af-418e-8590-0a6be3aaa13b"
      },
      "outputs": [
        {
          "output_type": "stream",
          "name": "stdout",
          "text": [
            "[9, 1, 2, 6, 3, 7]\n"
          ]
        }
      ],
      "source": [
        "lista_desordenada = [9,1,2,6,3,7]\n",
        "print(lista_desordenada)"
      ]
    },
    {
      "cell_type": "code",
      "execution_count": null,
      "id": "6ab2e6c8-97a1-4086-83ba-5ab8df162e78",
      "metadata": {
        "id": "6ab2e6c8-97a1-4086-83ba-5ab8df162e78"
      },
      "outputs": [],
      "source": [
        "lista_desordenada.sort(reverse=True)"
      ]
    },
    {
      "cell_type": "code",
      "execution_count": null,
      "id": "cac39310-a134-4395-8b3d-a0f5291a7219",
      "metadata": {
        "colab": {
          "base_uri": "https://localhost:8080/"
        },
        "id": "cac39310-a134-4395-8b3d-a0f5291a7219",
        "outputId": "f9f75a96-690c-4520-8456-4feaac0d76c1"
      },
      "outputs": [
        {
          "output_type": "stream",
          "name": "stdout",
          "text": [
            "[9, 7, 6, 3, 2, 1]\n"
          ]
        }
      ],
      "source": [
        "print(lista_desordenada)"
      ]
    },
    {
      "cell_type": "code",
      "execution_count": null,
      "id": "fb710d84",
      "metadata": {
        "colab": {
          "base_uri": "https://localhost:8080/"
        },
        "id": "fb710d84",
        "outputId": "840fc2c3-5c2c-4c23-e70b-0d51158906d0"
      },
      "outputs": [
        {
          "output_type": "execute_result",
          "data": {
            "text/plain": [
              "[1, 2, 3, 5, 8]"
            ]
          },
          "metadata": {},
          "execution_count": 21
        }
      ],
      "source": [
        "lista_desordenada = [5, 3, 8, 1, 2]\n",
        "lista_ordenada = sorted(lista_desordenada)\n",
        "lista_ordenada"
      ]
    },
    {
      "cell_type": "markdown",
      "id": "8de1ccb2",
      "metadata": {
        "id": "8de1ccb2"
      },
      "source": [
        "- [ ] **Check:** ¿Puedes ver cómo la lista ahora está ordenada?"
      ]
    },
    {
      "cell_type": "markdown",
      "id": "ba17eb45",
      "metadata": {
        "id": "ba17eb45"
      },
      "source": [
        "#### Ejercicio 4: Listas Anidadas\n",
        "4. Crea una lista que contenga otras dos listas, cada una con tres elementos. Luego, accede al segundo elemento de la segunda lista.\n",
        "- **Hint**: Utiliza dobles corchetes para acceder a listas anidadas."
      ]
    },
    {
      "cell_type": "code",
      "execution_count": null,
      "id": "fb98db8d-e108-4b21-9353-ba707adcab1e",
      "metadata": {
        "id": "fb98db8d-e108-4b21-9353-ba707adcab1e"
      },
      "outputs": [],
      "source": [
        "# Inicimos el código aquí\n"
      ]
    },
    {
      "cell_type": "code",
      "execution_count": null,
      "id": "d7c6c3a4-4cdf-4423-adb6-72bbdfdc9410",
      "metadata": {
        "id": "d7c6c3a4-4cdf-4423-adb6-72bbdfdc9410"
      },
      "outputs": [],
      "source": [
        "lista_anidada = [\n",
        "                    ['a',1, ['g', 'h', 'i']],\n",
        "                    ['b',4, ['g', 'h', 'i']]\n",
        "                ]"
      ]
    },
    {
      "cell_type": "code",
      "execution_count": null,
      "id": "69bc271d-95c0-430e-9605-09ccd51230aa",
      "metadata": {
        "id": "69bc271d-95c0-430e-9605-09ccd51230aa"
      },
      "outputs": [],
      "source": [
        "lista_anidada_2 = []"
      ]
    },
    {
      "cell_type": "code",
      "execution_count": null,
      "id": "16e634a9-066e-4b5c-94a9-f4bf18913004",
      "metadata": {
        "id": "16e634a9-066e-4b5c-94a9-f4bf18913004"
      },
      "outputs": [],
      "source": [
        "a_mayuscula = lista_anidada[0][0].upper()\n",
        "b_mayuscula = lista_anidada[1][0].upper()"
      ]
    },
    {
      "cell_type": "code",
      "execution_count": null,
      "id": "f550b0e3-c921-4200-a5d2-8cce7bcfb060",
      "metadata": {
        "colab": {
          "base_uri": "https://localhost:8080/"
        },
        "id": "f550b0e3-c921-4200-a5d2-8cce7bcfb060",
        "outputId": "ca016dd8-4534-4614-a064-02469be75f40"
      },
      "outputs": [
        {
          "output_type": "stream",
          "name": "stdout",
          "text": [
            "A\n",
            "B\n"
          ]
        }
      ],
      "source": [
        "print(a_mayuscula)\n",
        "print(b_mayuscula)"
      ]
    },
    {
      "cell_type": "code",
      "execution_count": null,
      "id": "f0dc6b8f-1d97-4616-bd62-646f81bc3c3e",
      "metadata": {
        "id": "f0dc6b8f-1d97-4616-bd62-646f81bc3c3e"
      },
      "outputs": [],
      "source": [
        "lista_anidada_2.append([a_mayuscula, lista_anidada[0][1], lista_anidada[0][2]])"
      ]
    },
    {
      "cell_type": "code",
      "execution_count": null,
      "id": "c1be4636-cfde-4f66-96ea-0167d08e72fc",
      "metadata": {
        "colab": {
          "base_uri": "https://localhost:8080/"
        },
        "id": "c1be4636-cfde-4f66-96ea-0167d08e72fc",
        "outputId": "508c5e2d-f6f6-426a-e5a8-6a06c893efc9"
      },
      "outputs": [
        {
          "output_type": "execute_result",
          "data": {
            "text/plain": [
              "[['A', 1, ['g', 'h', 'i']]]"
            ]
          },
          "metadata": {},
          "execution_count": 27
        }
      ],
      "source": [
        "lista_anidada_2"
      ]
    },
    {
      "cell_type": "markdown",
      "id": "2a482a0a",
      "metadata": {
        "id": "2a482a0a"
      },
      "source": [
        "- [ ] **Check:** ¿Puedes acceder correctamente al elemento de una lista anidada?"
      ]
    },
    {
      "cell_type": "markdown",
      "id": "95b47190",
      "metadata": {
        "id": "95b47190"
      },
      "source": [
        "#### Ejercicio 5: Procesamiento de Strings\n",
        "5. Crea una lista de palabras y conviértelas todas a mayúsculas.\n",
        "- **Hint**: Recuerdas Upper? Creo que no serpa tan sencillo usarlo aquí.\n",
        "- **Hint**: Puedes probar editando los elementos uno a uno si quieres.\n",
        "- **Hint**: Podemos usar un bucle o una comprensión de listas para aplicar `.upper()` a cada palabra."
      ]
    },
    {
      "cell_type": "code",
      "execution_count": null,
      "id": "9402ba3b-e257-4617-a3fd-20b514dfa1fd",
      "metadata": {
        "id": "9402ba3b-e257-4617-a3fd-20b514dfa1fd"
      },
      "outputs": [],
      "source": [
        "# Inicimos el código aquí\n"
      ]
    },
    {
      "cell_type": "code",
      "execution_count": null,
      "id": "a771912a-4e65-4c9d-911d-953ff10814b6",
      "metadata": {
        "colab": {
          "base_uri": "https://localhost:8080/"
        },
        "id": "a771912a-4e65-4c9d-911d-953ff10814b6",
        "outputId": "0848d32f-872b-4f7c-de1e-76f3c73987f0"
      },
      "outputs": [
        {
          "output_type": "execute_result",
          "data": {
            "text/plain": [
              "['DATA', 'ANALYTICS', 'PYTHON']"
            ]
          },
          "metadata": {},
          "execution_count": 29
        }
      ],
      "source": [
        "palabras = [\"data\", \"analytics\", \"python\"]\n",
        "\n",
        "palabras_mayusculas = []\n",
        "\n",
        "for palabra in palabras:\n",
        "    palabras_mayusculas.append(palabra.upper())\n",
        "\n",
        "palabras_mayusculas"
      ]
    },
    {
      "cell_type": "markdown",
      "id": "d6e6c326",
      "metadata": {
        "id": "d6e6c326"
      },
      "source": [
        "- [ ] **Check:** ¿Pudiste convertir todas las palabras a mayúsculas?"
      ]
    },
    {
      "cell_type": "markdown",
      "id": "70d5db7e",
      "metadata": {
        "id": "70d5db7e"
      },
      "source": [
        "### Segundo Momento - Introducción al Sprint 2: Bucles y Sentencias Condicionales\n",
        "\n",
        "- Bucles for y while\n",
        "- Sentencias condicionales if, else, elif\n",
        "- Modificación y filtrado de listas"
      ]
    },
    {
      "cell_type": "markdown",
      "id": "13931e64-d0a1-40fc-8b67-cacedae6a476",
      "metadata": {
        "id": "13931e64-d0a1-40fc-8b67-cacedae6a476"
      },
      "source": [
        "- [ ] **Check:** ¿Entiendes el concepto de if/else?, y, ¿qué hay del for?"
      ]
    },
    {
      "cell_type": "code",
      "execution_count": null,
      "id": "ece53f58-ff23-49a6-bfef-174384fb830e",
      "metadata": {
        "colab": {
          "base_uri": "https://localhost:8080/"
        },
        "id": "ece53f58-ff23-49a6-bfef-174384fb830e",
        "outputId": "51c34a7f-4c90-4758-abd8-391988e71b82"
      },
      "outputs": [
        {
          "output_type": "stream",
          "name": "stdout",
          "text": [
            "9\n",
            "8\n",
            "7\n",
            "6\n",
            "5\n"
          ]
        }
      ],
      "source": [
        "lista = [8,7,6,5,4]\n",
        "x = 0\n",
        "for x in lista:\n",
        "  x += 1\n",
        "  # x = x + 1\n",
        "  print(x)"
      ]
    },
    {
      "cell_type": "code",
      "execution_count": null,
      "id": "d9dadecc-8e48-4c35-9048-e763fb9aece9",
      "metadata": {
        "id": "d9dadecc-8e48-4c35-9048-e763fb9aece9"
      },
      "outputs": [],
      "source": [
        "frutas = ['fresa', 'piña', 'uva', 'platano']"
      ]
    },
    {
      "cell_type": "code",
      "execution_count": null,
      "id": "bce41752-9205-4eb9-9cff-bbf4555b8dd4",
      "metadata": {
        "colab": {
          "base_uri": "https://localhost:8080/"
        },
        "id": "bce41752-9205-4eb9-9cff-bbf4555b8dd4",
        "outputId": "3d1c369b-3371-4850-98a3-c03613294fca"
      },
      "outputs": [
        {
          "output_type": "stream",
          "name": "stdout",
          "text": [
            "['FRESA', 'PIÑA', 'UVA', 'PLATANO']\n"
          ]
        }
      ],
      "source": [
        "frutas_en_mayuscula = []\n",
        "\n",
        "for fruta in frutas:\n",
        "    frutas_en_mayuscula.append(fruta.upper())\n",
        "\n",
        "print(frutas_en_mayuscula)"
      ]
    },
    {
      "cell_type": "code",
      "execution_count": null,
      "id": "5bd347af-ee32-4255-a2ca-3ab758ea698c",
      "metadata": {
        "colab": {
          "base_uri": "https://localhost:8080/"
        },
        "id": "5bd347af-ee32-4255-a2ca-3ab758ea698c",
        "outputId": "1bb0e914-37cd-46e7-8353-6c44b46ae2f8"
      },
      "outputs": [
        {
          "output_type": "stream",
          "name": "stdout",
          "text": [
            "['FRESA', 'PIÑA', 'UVA', 'PLATANO']\n"
          ]
        }
      ],
      "source": [
        "frutas_en_mayuscula = []\n",
        "\n",
        "for fruta in frutas:\n",
        "    fruta_en_mayuscula = fruta.upper()\n",
        "    frutas_en_mayuscula.append(fruta_en_mayuscula)\n",
        "\n",
        "print(frutas_en_mayuscula)"
      ]
    },
    {
      "cell_type": "code",
      "execution_count": null,
      "id": "7e1dab52-a398-4e1e-88d1-39188c33d2ed",
      "metadata": {
        "id": "7e1dab52-a398-4e1e-88d1-39188c33d2ed"
      },
      "outputs": [],
      "source": [
        "a = 2"
      ]
    },
    {
      "cell_type": "code",
      "execution_count": null,
      "id": "4691caf2-1124-4127-8f4e-ab71f8fdc3c4",
      "metadata": {
        "id": "4691caf2-1124-4127-8f4e-ab71f8fdc3c4"
      },
      "outputs": [],
      "source": [
        "if a == 1:\n",
        "    print(\"es uno\")\n"
      ]
    },
    {
      "cell_type": "markdown",
      "id": "9180f698",
      "metadata": {
        "id": "9180f698"
      },
      "source": [
        "#### Ejercicio 1: Bucles For\n",
        "1. Utiliza un bucle `for` para imprimir los elementos de la lista `mi_lista` que sean mayores a 5.\n",
        "- **Hint**: Utiliza una sentencia `if` dentro del bucle para verificar el valor de cada elemento."
      ]
    },
    {
      "cell_type": "code",
      "execution_count": null,
      "id": "a93cfdf9-fa4b-4ab8-a09f-e7dc72a772f8",
      "metadata": {
        "id": "a93cfdf9-fa4b-4ab8-a09f-e7dc72a772f8"
      },
      "outputs": [],
      "source": [
        "# Inicimos el código aquí\n"
      ]
    },
    {
      "cell_type": "code",
      "execution_count": null,
      "id": "e5ce4f7a-5044-40b4-8579-569a8e52a914",
      "metadata": {
        "id": "e5ce4f7a-5044-40b4-8579-569a8e52a914"
      },
      "outputs": [],
      "source": [
        "mi_lista = [1,6,5,7,9,0,11,8]"
      ]
    },
    {
      "cell_type": "code",
      "execution_count": null,
      "id": "b62da316-5629-4494-bd78-bd6d3ba6c32f",
      "metadata": {
        "colab": {
          "base_uri": "https://localhost:8080/"
        },
        "id": "b62da316-5629-4494-bd78-bd6d3ba6c32f",
        "outputId": "7b2f7978-71b7-486a-df6f-cd7a845bfffd"
      },
      "outputs": [
        {
          "output_type": "stream",
          "name": "stdout",
          "text": [
            "False\n",
            "True\n",
            "False\n",
            "True\n",
            "True\n",
            "False\n",
            "True\n",
            "True\n"
          ]
        }
      ],
      "source": [
        "for x in mi_lista:\n",
        "    print(x>5)"
      ]
    },
    {
      "cell_type": "code",
      "execution_count": null,
      "id": "de6908fc-09d1-4b00-8943-762b9e6be748",
      "metadata": {
        "colab": {
          "base_uri": "https://localhost:8080/"
        },
        "id": "de6908fc-09d1-4b00-8943-762b9e6be748",
        "outputId": "9deb6f30-62c4-4cc9-de62-bb765f561918"
      },
      "outputs": [
        {
          "output_type": "stream",
          "name": "stdout",
          "text": [
            "No es mayor a 5\n",
            "6\n",
            "No es mayor a 5\n",
            "7\n",
            "9\n",
            "No es mayor a 5\n",
            "11\n",
            "8\n"
          ]
        }
      ],
      "source": [
        "for x in mi_lista:\n",
        "  if x > 5:\n",
        "    print(x)\n",
        "  else:\n",
        "    print(\"No es mayor a 5\")"
      ]
    },
    {
      "cell_type": "code",
      "execution_count": null,
      "id": "fe37c5eb-e3f4-4803-9a8a-ce1ddb98f08e",
      "metadata": {
        "colab": {
          "base_uri": "https://localhost:8080/"
        },
        "id": "fe37c5eb-e3f4-4803-9a8a-ce1ddb98f08e",
        "outputId": "cd5786b0-fee0-4a05-c5e8-e3893c963a87"
      },
      "outputs": [
        {
          "output_type": "stream",
          "name": "stdout",
          "text": [
            "[1, 6, 5, 7, 9, 0, 11, 8]\n"
          ]
        }
      ],
      "source": [
        "print(mi_lista)"
      ]
    },
    {
      "cell_type": "code",
      "execution_count": null,
      "id": "044ed82e",
      "metadata": {
        "colab": {
          "base_uri": "https://localhost:8080/"
        },
        "id": "044ed82e",
        "outputId": "9e030d00-2e8b-4d06-b4c1-eb89fef4ee17"
      },
      "outputs": [
        {
          "output_type": "stream",
          "name": "stdout",
          "text": [
            "6\n",
            "7\n",
            "9\n",
            "11\n",
            "8\n"
          ]
        }
      ],
      "source": [
        "for elemento in mi_lista:\n",
        "    if elemento > 5:\n",
        "        print(elemento)"
      ]
    },
    {
      "cell_type": "code",
      "execution_count": null,
      "id": "84e7db15-c8b6-4987-b656-59793b5ec8eb",
      "metadata": {
        "colab": {
          "base_uri": "https://localhost:8080/"
        },
        "id": "84e7db15-c8b6-4987-b656-59793b5ec8eb",
        "outputId": "07023a51-b04d-4f58-a194-90cc0ff5b693"
      },
      "outputs": [
        {
          "output_type": "stream",
          "name": "stdout",
          "text": [
            "1\n",
            "6\n",
            "5\n",
            "7\n",
            "9\n",
            "0\n",
            "11\n",
            "8\n"
          ]
        }
      ],
      "source": [
        "for x in mi_lista:\n",
        "    print(x)"
      ]
    },
    {
      "cell_type": "markdown",
      "id": "ba8d688a",
      "metadata": {
        "id": "ba8d688a"
      },
      "source": [
        "- [ ] **Check:** ¿Pudiste imprimir solo los elementos mayores a 5?"
      ]
    },
    {
      "cell_type": "markdown",
      "id": "9433f0d9",
      "metadata": {
        "id": "9433f0d9"
      },
      "source": [
        "#### Ejercicio 2: Bucles While\n",
        "2. Utiliza un bucle `while` para reducir un valor numérico hasta llegar a 0.\n",
        "- [ ] **Check:** ¿Entiendes el concepto de while?\n",
        "- **Hint**: Asegúrate de reducir el valor en cada iteración para evitar un bucle infinito."
      ]
    },
    {
      "cell_type": "code",
      "execution_count": null,
      "id": "739344a9-4481-45f0-aba4-e5909bf8b0e7",
      "metadata": {
        "id": "739344a9-4481-45f0-aba4-e5909bf8b0e7"
      },
      "outputs": [],
      "source": [
        "# Inicimos el código aquí\n"
      ]
    },
    {
      "cell_type": "code",
      "execution_count": null,
      "id": "de0b9734",
      "metadata": {
        "colab": {
          "base_uri": "https://localhost:8080/"
        },
        "id": "de0b9734",
        "outputId": "75dfcf79-0b40-480a-9d86-dd6d19dc0666"
      },
      "outputs": [
        {
          "output_type": "stream",
          "name": "stdout",
          "text": [
            "10\n",
            "9\n",
            "8\n",
            "7\n",
            "6\n",
            "5\n",
            "4\n",
            "3\n",
            "2\n",
            "1\n"
          ]
        }
      ],
      "source": [
        "valor = 10\n",
        "while valor > 0:\n",
        "    print(valor)\n",
        "    valor -= 1 ###!!!!!"
      ]
    },
    {
      "cell_type": "markdown",
      "id": "0b47a4c1",
      "metadata": {
        "id": "0b47a4c1"
      },
      "source": [
        "- [ ] **Check:** ¿Entiendes cómo se controla la ejecución de un bucle `while`?"
      ]
    },
    {
      "cell_type": "markdown",
      "id": "2ebd9c99",
      "metadata": {
        "id": "2ebd9c99"
      },
      "source": [
        "#### Ejercicio 3: Sentencias Condicionales\n",
        "3. Crea una lista de edades y utiliza un bucle para imprimir si cada persona es mayor o menor de edad.\n",
        "- **Hint**: Utiliza `if` y `else` para cada elemento de la lista."
      ]
    },
    {
      "cell_type": "code",
      "execution_count": null,
      "id": "d0746c70-61f8-49c9-82f4-63524989cfba",
      "metadata": {
        "id": "d0746c70-61f8-49c9-82f4-63524989cfba"
      },
      "outputs": [],
      "source": [
        "# Inicimos el código aquí\n"
      ]
    },
    {
      "cell_type": "code",
      "execution_count": null,
      "id": "e6165805-9ee3-4b03-aa3d-6950a71b297a",
      "metadata": {
        "colab": {
          "base_uri": "https://localhost:8080/"
        },
        "id": "e6165805-9ee3-4b03-aa3d-6950a71b297a",
        "outputId": "947c3c4a-be9c-4765-c97e-17f27ba09398"
      },
      "outputs": [
        {
          "output_type": "stream",
          "name": "stdout",
          "text": [
            "el numero es menor a 20\n"
          ]
        }
      ],
      "source": [
        "numero = 10\n",
        "\n",
        "if numero < 10 & numero > 0:\n",
        "    print(\"el numero es menor a 10\")\n",
        "elif numero >= 10 & numero < 20:\n",
        "    print(\"el numero es menor a 20\")\n",
        "elif numero < 30:\n",
        "    print(\"el numero es menor a 30\")\n",
        "elif numero < 40:\n",
        "    print(\"el numero es menor a 40\")\n",
        "elif numero < 50:\n",
        "    print(\"el numero es menor a 50\")\n",
        "else:\n",
        "    print(\"el numero es mayor a 50\")"
      ]
    },
    {
      "cell_type": "code",
      "execution_count": null,
      "id": "8a03d99b",
      "metadata": {
        "colab": {
          "base_uri": "https://localhost:8080/"
        },
        "id": "8a03d99b",
        "outputId": "e25eb4f5-a32c-4c23-a138-a1fcc4a8c2ad"
      },
      "outputs": [
        {
          "output_type": "stream",
          "name": "stdout",
          "text": [
            "12: Menor de edad\n",
            "18: Mayor de edad\n",
            "25: Mayor de edad\n",
            "14: Menor de edad\n",
            "30: Mayor de edad\n"
          ]
        }
      ],
      "source": [
        "edades = [12, 18, 25, 14, 30]\n",
        "for edad in edades:\n",
        "    if edad >= 18:\n",
        "        print(f\"{edad}: Mayor de edad\")\n",
        "    else:\n",
        "        print(f\"{edad}: Menor de edad\")"
      ]
    },
    {
      "cell_type": "markdown",
      "id": "ffc2d343",
      "metadata": {
        "id": "ffc2d343"
      },
      "source": [
        "- [ ] **Check:** ¿Pudiste clasificar correctamente cada edad?"
      ]
    },
    {
      "cell_type": "markdown",
      "id": "0631446e",
      "metadata": {
        "id": "0631446e"
      },
      "source": [
        "#### Ejercicio 4: Filtrar una Lista\n",
        "4. Filtra los números pares de una lista utilizando un bucle.\n",
        "- **Hint**: Utiliza el operador de módulo `%` para verificar si un número es par."
      ]
    },
    {
      "cell_type": "code",
      "execution_count": null,
      "id": "5fc1a7d9-1112-492b-9492-0d2a89901e3e",
      "metadata": {
        "colab": {
          "base_uri": "https://localhost:8080/"
        },
        "id": "5fc1a7d9-1112-492b-9492-0d2a89901e3e",
        "outputId": "0a8b8bc6-2e85-4d49-e9f9-67a629ff77b3"
      },
      "outputs": [
        {
          "output_type": "execute_result",
          "data": {
            "text/plain": [
              "0"
            ]
          },
          "metadata": {},
          "execution_count": 17
        }
      ],
      "source": [
        "# Inicimos el código aquí\n",
        "4 % 2"
      ]
    },
    {
      "cell_type": "code",
      "source": [
        "numeros = [1, 2, 3, 4, 5, 6, 7, 8]\n",
        "\n",
        "pares = []\n",
        "for num in numeros:\n",
        "  if num % 2 == 0:\n",
        "    pares.append(num)\n",
        "\n",
        "print(pares)"
      ],
      "metadata": {
        "colab": {
          "base_uri": "https://localhost:8080/"
        },
        "id": "46-7ykQk3PJL",
        "outputId": "e3953a71-2bc0-45d0-c158-943fc4046766"
      },
      "id": "46-7ykQk3PJL",
      "execution_count": null,
      "outputs": [
        {
          "output_type": "stream",
          "name": "stdout",
          "text": [
            "[2, 4, 6, 8]\n"
          ]
        }
      ]
    },
    {
      "cell_type": "code",
      "execution_count": null,
      "id": "5502ef1b",
      "metadata": {
        "colab": {
          "base_uri": "https://localhost:8080/"
        },
        "id": "5502ef1b",
        "outputId": "c3b7a930-10cd-4e90-f9aa-3d1d93526aec"
      },
      "outputs": [
        {
          "output_type": "execute_result",
          "data": {
            "text/plain": [
              "[2, 4, 6, 8]"
            ]
          },
          "metadata": {},
          "execution_count": 60
        }
      ],
      "source": [
        "numeros = [1, 2, 3, 4, 5, 6, 7, 8]\n",
        "numeros_pares = [num for num in numeros if num % 2 == 0]\n",
        "numeros_pares"
      ]
    },
    {
      "cell_type": "markdown",
      "id": "ff73981f",
      "metadata": {
        "id": "ff73981f"
      },
      "source": [
        "- [ ] **Check:** ¿Pudiste filtrar solo los números pares?"
      ]
    },
    {
      "cell_type": "markdown",
      "id": "68b0d0c7",
      "metadata": {
        "id": "68b0d0c7"
      },
      "source": [
        "### Conclusiones\n",
        "Hoy hemos cubierto los conceptos básicos de listas, bucles y sentencias condicionales, que son herramientas fundamentales para el análisis de datos. Asegúrate de practicar estos conceptos para afianzarlos."
      ]
    },
    {
      "cell_type": "markdown",
      "id": "f5becf99",
      "metadata": {
        "id": "f5becf99"
      },
      "source": [
        "### Tarea\n",
        "- Practica con más ejercicios de listas y bucles en [w3schools - Python Lists](https://www.w3schools.com/python/python_lists.asp).\n",
        "- Resuelve algunos ejercicios de bucles en [HackerRank - Python Loops](https://www.hackerrank.com/domains/tutorials/10-days-of-python)."
      ]
    },
    {
      "cell_type": "markdown",
      "id": "7458bda6",
      "metadata": {
        "id": "7458bda6"
      },
      "source": [
        "### Takeaways\n",
        "- Utilizar `list comprehensions` es una forma eficiente y elegante de procesar listas.\n",
        "- Los bucles `while` requieren condiciones bien definidas para evitar ejecuciones infinitas.\n",
        "- Aprender a combinar sentencias `if` con bucles es clave para realizar operaciones de filtrado y transformación en listas."
      ]
    },
    {
      "cell_type": "markdown",
      "source": [
        "---\n",
        "\n",
        "# Parte 2"
      ],
      "metadata": {
        "id": "NXUNyyBe82L2"
      },
      "id": "NXUNyyBe82L2"
    },
    {
      "cell_type": "markdown",
      "source": [
        "## Objetivo\n",
        "Seguiremos explorando los conceptos básicos de python pero en esta ocasion abordaremos ejercicios complejos que nos permitirán desarrollar nuestra lógica de programación y crear código utilizando todas las funciones y métodos vistos hasta ahora.\n",
        "\n",
        "#### Ejercicio 1: Iteracion de lista anidada\n",
        "1. Dado un inventario de productos con información como el ID del producto, el nombre, el precio y la categoría, escribe un programa que calcule el precio promedio de todos los productos en la lista. Imprime el precio promedio con un mensaje adecuado..\n",
        "- **Hint**: Utiliza un bucle para iterar sobre la lista de productos y sumar los precios. Luego, divide el precio total por el número de productos para obtener el precio promedio."
      ],
      "metadata": {
        "id": "Odh2k-d18_tc"
      },
      "id": "Odh2k-d18_tc"
    },
    {
      "cell_type": "code",
      "source": [
        "# Inicimos el código aquí\n",
        "products = [\n",
        "    [1001, \"Laptop\", 1500, \"Electronics\"],\n",
        "    [1002, \"Desk Chair\", 250, \"Furniture\"],\n",
        "    [1003, \"Smartphone\", 800, \"Electronics\"],\n",
        "    [1004, \"Bookshelf\", 120, \"Furniture\"],\n",
        "    [1005, \"Blender\", 60, \"Home Appliances\"],\n",
        "    [1006, \"Headphones\", 200, \"Electronics\"],\n",
        "    [1007, \"Lamp\", 40, \"Home Decor\"],\n",
        "    [1008, \"Vacuum Cleaner\", 300, \"Home Appliances\"]\n",
        "]"
      ],
      "metadata": {
        "id": "UsqOcF1P82-t"
      },
      "id": "UsqOcF1P82-t",
      "execution_count": null,
      "outputs": []
    },
    {
      "cell_type": "code",
      "source": [
        "lista_precios = []\n",
        "\n",
        "for product in products:\n",
        "    lista_precios.append(product[2])\n",
        "\n",
        "lista_precios"
      ],
      "metadata": {
        "colab": {
          "base_uri": "https://localhost:8080/"
        },
        "id": "52jR74FM9LKP",
        "outputId": "8feda51e-9b9b-4dbf-80d2-0dfba4edf571"
      },
      "id": "52jR74FM9LKP",
      "execution_count": null,
      "outputs": [
        {
          "output_type": "execute_result",
          "data": {
            "text/plain": [
              "[1500, 250, 800, 120, 60, 200, 40, 300]"
            ]
          },
          "metadata": {},
          "execution_count": 21
        }
      ]
    },
    {
      "cell_type": "code",
      "source": [
        "promedio = sum(lista_precios)/len(lista_precios)\n",
        "print(promedio)"
      ],
      "metadata": {
        "colab": {
          "base_uri": "https://localhost:8080/"
        },
        "id": "rE-Z0k4J9NeN",
        "outputId": "c73466db-a1d7-427d-c084-033f37bab4f7"
      },
      "id": "rE-Z0k4J9NeN",
      "execution_count": null,
      "outputs": [
        {
          "output_type": "stream",
          "name": "stdout",
          "text": [
            "408.75\n"
          ]
        }
      ]
    },
    {
      "cell_type": "code",
      "source": [
        "products = [\n",
        "    [1001, \"Laptop\", 1500, \"Electronics\"],\n",
        "    [1002, \"Desk Chair\", 250, \"Furniture\"],\n",
        "    [1003, \"Smartphone\", 800, \"Electronics\"],\n",
        "    [1004, \"Bookshelf\", 120, \"Furniture\"],\n",
        "    [1005, \"Blender\", 60, \"Home Appliances\"],\n",
        "    [1006, \"Headphones\", 200, \"Electronics\"],\n",
        "    [1007, \"Lamp\", 40, \"Home Decor\"],\n",
        "    [1008, \"Vacuum Cleaner\", 300, \"Home Appliances\"]\n",
        "]\n",
        "\n",
        "total_price = 0\n",
        "num_products = 0\n",
        "\n",
        "for product in products:\n",
        "    total_price += product[2]\n",
        "    num_products += 1\n",
        "\n",
        "print(\"Precio acumulado\", total_price)\n",
        "print(\"Total de productos\", num_products)\n",
        "\n",
        "average_price = total_price / num_products\n",
        "\n",
        "print(\"The average price of the products is:\", average_price)\n"
      ],
      "metadata": {
        "colab": {
          "base_uri": "https://localhost:8080/"
        },
        "id": "IOwWbPnW9Sts",
        "outputId": "aa2e6407-dc30-4726-b79a-b7938297faf3"
      },
      "id": "IOwWbPnW9Sts",
      "execution_count": null,
      "outputs": [
        {
          "output_type": "stream",
          "name": "stdout",
          "text": [
            "Precio acumulado 3270\n",
            "Total de productos 8\n",
            "The average price of the products is: 408.75\n"
          ]
        }
      ]
    },
    {
      "cell_type": "markdown",
      "source": [
        "- [ ] **Check:** El codigo dentro del for se ejecutará para cada elemento que se itera."
      ],
      "metadata": {
        "id": "RUrvBuNl9ez0"
      },
      "id": "RUrvBuNl9ez0"
    },
    {
      "cell_type": "markdown",
      "source": [
        "#### Ejercicio 2: Recordando condicionales\n",
        "2. Dado el inventario de productos, escribe un programa que imprima un mensaje indicando si el producto pertenece a la categoría \"Electronics\" y su precio es mayor a 500.\n",
        "\n",
        "- [ ] **Check:** Deberás utilizar sentencias condicionales para hacer esto."
      ],
      "metadata": {
        "id": "z5aMqE1c9hX4"
      },
      "id": "z5aMqE1c9hX4"
    },
    {
      "cell_type": "code",
      "source": [
        "# Inicimos el código aquí\n",
        "products = [\n",
        "    [1001, \"Laptop\", 1500, \"Electronics\"],\n",
        "    [1002, \"Desk Chair\", 250, \"Furniture\"],\n",
        "    [1003, \"Smartphone\", 800, \"Electronics\"],\n",
        "    [1004, \"Bookshelf\", 120, \"Furniture\"],\n",
        "    [1005, \"Blender\", 60, \"Home Appliances\"],\n",
        "    [1006, \"Headphones\", 200, \"Electronics\"],\n",
        "    [1007, \"Lamp\", 40, \"Home Decor\"],\n",
        "    [1008, \"Vacuum Cleaner\", 300, \"Home Appliances\"]\n",
        "]"
      ],
      "metadata": {
        "id": "1kq2NS289fTj"
      },
      "id": "1kq2NS289fTj",
      "execution_count": null,
      "outputs": []
    },
    {
      "cell_type": "code",
      "source": [
        "for product in products:\n",
        "    if product[3] == 'Electronics' and product[2] > 500:\n",
        "        print(product[1])"
      ],
      "metadata": {
        "colab": {
          "base_uri": "https://localhost:8080/"
        },
        "id": "nQ0iscUY9rZc",
        "outputId": "d262f19a-a6c8-499d-89a0-2d90a36240d4"
      },
      "id": "nQ0iscUY9rZc",
      "execution_count": null,
      "outputs": [
        {
          "output_type": "stream",
          "name": "stdout",
          "text": [
            "Laptop\n",
            "Smartphone\n"
          ]
        }
      ]
    },
    {
      "cell_type": "markdown",
      "source": [
        "#### Ejercicio 3: Iniciandonos en funciones.\n",
        "3. Dada una lista de números, escribe una función que devuelva la suma de todos los elementos en la lista."
      ],
      "metadata": {
        "id": "e5247QNQ-TQ1"
      },
      "id": "e5247QNQ-TQ1"
    },
    {
      "cell_type": "code",
      "source": [
        "def sumaNumeros(lista_numeros):\n",
        "    total = 0\n",
        "    for x in lista_numeros:\n",
        "        total += x\n",
        "    print(\"El total es:\")\n",
        "    return total"
      ],
      "metadata": {
        "id": "rOagVgpr-T12"
      },
      "id": "rOagVgpr-T12",
      "execution_count": null,
      "outputs": []
    },
    {
      "cell_type": "code",
      "source": [
        "# Inicimos el código aquí\n",
        "numbers = [5, 10, 15, 20, 25]"
      ],
      "metadata": {
        "id": "3AtQAcTN-Xps"
      },
      "id": "3AtQAcTN-Xps",
      "execution_count": null,
      "outputs": []
    },
    {
      "cell_type": "code",
      "source": [
        "sumaNumeros(numbers)"
      ],
      "metadata": {
        "colab": {
          "base_uri": "https://localhost:8080/"
        },
        "id": "bT8l188c-ZQL",
        "outputId": "5318a2c7-4ef4-4694-87ea-59202d896f55"
      },
      "id": "bT8l188c-ZQL",
      "execution_count": null,
      "outputs": [
        {
          "output_type": "stream",
          "name": "stdout",
          "text": [
            "El total es:\n"
          ]
        },
        {
          "output_type": "execute_result",
          "data": {
            "text/plain": [
              "75"
            ]
          },
          "metadata": {},
          "execution_count": 31
        }
      ]
    },
    {
      "cell_type": "code",
      "source": [
        "def sumaNumeros_10(lista_numeros):\n",
        "    total = 0\n",
        "    for x in lista_numeros:\n",
        "      if x > 10:\n",
        "        total += x\n",
        "\n",
        "    print(total)\n",
        "\n",
        "sumaNumeros_10(numbers)"
      ],
      "metadata": {
        "colab": {
          "base_uri": "https://localhost:8080/"
        },
        "id": "_TZz-aB5-0Nf",
        "outputId": "b1bb976c-91db-4368-ffe8-80f3e62f2760"
      },
      "id": "_TZz-aB5-0Nf",
      "execution_count": null,
      "outputs": [
        {
          "output_type": "stream",
          "name": "stdout",
          "text": [
            "60\n"
          ]
        }
      ]
    }
  ],
  "metadata": {
    "kernelspec": {
      "display_name": "Python 3 (ipykernel)",
      "language": "python",
      "name": "python3"
    },
    "language_info": {
      "codemirror_mode": {
        "name": "ipython",
        "version": 3
      },
      "file_extension": ".py",
      "mimetype": "text/x-python",
      "name": "python",
      "nbconvert_exporter": "python",
      "pygments_lexer": "ipython3",
      "version": "3.12.7"
    },
    "colab": {
      "provenance": []
    }
  },
  "nbformat": 4,
  "nbformat_minor": 5
}